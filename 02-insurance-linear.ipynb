{
 "cells": [
  {
   "cell_type": "markdown",
   "metadata": {
    "_cell_guid": "b1076dfc-b9ad-4769-8c92-a6c4dae69d19",
    "_uuid": "8f2839f25d086af736a60e9eeb907d3b93b6e0e5",
    "id": "PXr8bDX_tXjb"
   },
   "source": [
    "# Insurance cost prediction using linear regression\n"
   ]
  },
  {
   "cell_type": "code",
   "execution_count": 2,
   "metadata": {
    "id": "B1PzQY6DtXji"
   },
   "outputs": [
    {
     "name": "stdout",
     "output_type": "stream",
     "text": [
      "Looking in links: https://download.pytorch.org/whl/torch_stable.html\n",
      "Requirement already satisfied: numpy in /opt/conda/lib/python3.8/site-packages (1.19.2)\n",
      "Requirement already satisfied: matplotlib in /opt/conda/lib/python3.8/site-packages (3.3.2)\n",
      "Requirement already satisfied: pandas in /opt/conda/lib/python3.8/site-packages (1.1.3)\n",
      "Requirement already satisfied: torch==1.7.0+cpu in /opt/conda/lib/python3.8/site-packages (1.7.0+cpu)\n",
      "Requirement already satisfied: torchvision==0.8.1+cpu in /opt/conda/lib/python3.8/site-packages (0.8.1+cpu)\n",
      "Requirement already satisfied: torchaudio==0.7.0 in /opt/conda/lib/python3.8/site-packages (0.7.0)\n",
      "Requirement already satisfied: pillow>=6.2.0 in /opt/conda/lib/python3.8/site-packages (from matplotlib) (8.0.0)\n",
      "Requirement already satisfied: pyparsing!=2.0.4,!=2.1.2,!=2.1.6,>=2.0.3 in /opt/conda/lib/python3.8/site-packages (from matplotlib) (2.4.7)\n",
      "Requirement already satisfied: kiwisolver>=1.0.1 in /opt/conda/lib/python3.8/site-packages (from matplotlib) (1.2.0)\n",
      "Requirement already satisfied: cycler>=0.10 in /opt/conda/lib/python3.8/site-packages (from matplotlib) (0.10.0)\n",
      "Requirement already satisfied: python-dateutil>=2.1 in /opt/conda/lib/python3.8/site-packages (from matplotlib) (2.8.1)\n",
      "Requirement already satisfied: certifi>=2020.06.20 in /opt/conda/lib/python3.8/site-packages (from matplotlib) (2020.6.20)\n",
      "Requirement already satisfied: pytz>=2017.2 in /opt/conda/lib/python3.8/site-packages (from pandas) (2020.1)\n",
      "Requirement already satisfied: dataclasses in /opt/conda/lib/python3.8/site-packages (from torch==1.7.0+cpu) (0.6)\n",
      "Requirement already satisfied: typing-extensions in /opt/conda/lib/python3.8/site-packages (from torch==1.7.0+cpu) (3.7.4.3)\n",
      "Requirement already satisfied: future in /opt/conda/lib/python3.8/site-packages (from torch==1.7.0+cpu) (0.18.2)\n",
      "Requirement already satisfied: six in /opt/conda/lib/python3.8/site-packages (from cycler>=0.10->matplotlib) (1.15.0)\n"
     ]
    }
   ],
   "source": [
    "# Uncomment and run the appropriate command for your operating system, if required\n",
    "\n",
    "# Linux / Binder\n",
    "# !pip install numpy matplotlib pandas torch==1.7.0+cpu torchvision==0.8.1+cpu torchaudio==0.7.0 -f https://download.pytorch.org/whl/torch_stable.html\n",
    "\n",
    "# Windows\n",
    "!pip install numpy matplotlib pandas torch==1.7.0+cpu torchvision==0.8.1+cpu torchaudio==0.7.0 -f https://download.pytorch.org/whl/torch_stable.html\n",
    "\n",
    "# MacOS\n",
    "# !pip install numpy matplotlib pandas torch torchvision torchaudio"
   ]
  },
  {
   "cell_type": "code",
   "execution_count": 3,
   "metadata": {
    "executionInfo": {
     "elapsed": 11020,
     "status": "ok",
     "timestamp": 1607706113643,
     "user": {
      "displayName": "Afifah Berry",
      "photoUrl": "",
      "userId": "17791867629584628795"
     },
     "user_tz": -300
    },
    "id": "e1AsfYX2tXjl"
   },
   "outputs": [],
   "source": [
    "import torch\n",
    "import jovian\n",
    "import torchvision\n",
    "import torch.nn as nn\n",
    "import pandas as pd\n",
    "import matplotlib.pyplot as plt\n",
    "import torch.nn.functional as F\n",
    "from torchvision.datasets.utils import download_url\n",
    "from torch.utils.data import DataLoader, TensorDataset, random_split"
   ]
  },
  {
   "cell_type": "code",
   "execution_count": 40,
   "metadata": {
    "executionInfo": {
     "elapsed": 11013,
     "status": "ok",
     "timestamp": 1607706113647,
     "user": {
      "displayName": "Afifah Berry",
      "photoUrl": "",
      "userId": "17791867629584628795"
     },
     "user_tz": -300
    },
    "id": "3yRIHh0ntXjn"
   },
   "outputs": [],
   "source": [
    "project_name='02-insurance-linear-regression' # will be used by jovian.commit"
   ]
  },
  {
   "cell_type": "markdown",
   "metadata": {
    "id": "dZ2cIdFUtXjp"
   },
   "source": [
    "## Step 1: Download and explore the data\n",
    "\n",
    "Let us begin by downloading the data. We'll use the `download_url` function from PyTorch to get the data as a CSV (comma-separated values) file. "
   ]
  },
  {
   "cell_type": "code",
   "execution_count": 41,
   "metadata": {
    "_cell_guid": "79c7e3d0-c299-4dcb-8224-4455121ee9b0",
    "_uuid": "d629ff2d2480ee46fbb7e2d37f6b5fab8052498a",
    "colab": {
     "base_uri": "https://localhost:8080/",
     "height": 66,
     "referenced_widgets": [
      "8405815c91cf43edaf9fdfce3a211203",
      "ff204edcd1304468a0e514a3ed559dc6",
      "715e13fa518b43a2a70c3a520a3e421d",
      "31020829dafa497dafaedea4e7d0701b",
      "a6cb6a366b574c7c9f5a917257b249a1",
      "b4561301e5ce42c99b23baba6fbddf9b",
      "b9e7212927a24daab80cf2d70185b1a3",
      "a965fbff9f52493fbbed83689b5d0099"
     ]
    },
    "executionInfo": {
     "elapsed": 3300,
     "status": "ok",
     "timestamp": 1607706363787,
     "user": {
      "displayName": "Afifah Berry",
      "photoUrl": "",
      "userId": "17791867629584628795"
     },
     "user_tz": -300
    },
    "id": "5C2Vs_EftXjr",
    "outputId": "a70e33d1-2fa4-4ecb-8808-7be0d246ba24"
   },
   "outputs": [
    {
     "name": "stdout",
     "output_type": "stream",
     "text": [
      "Using downloaded and verified file: ./insurance.csv\n"
     ]
    }
   ],
   "source": [
    "DATASET_URL = \"https://hub.jovian.ml/wp-content/uploads/2020/05/insurance.csv\"\n",
    "DATA_FILENAME = \"insurance.csv\"\n",
    "download_url(DATASET_URL, '.')"
   ]
  },
  {
   "cell_type": "markdown",
   "metadata": {
    "id": "-uAQKlj8tXju"
   },
   "source": [
    "To load the dataset into memory, we'll use the `read_csv` function from the `pandas` library. The data will be loaded as a Pandas dataframe. See this short tutorial to learn more: https://data36.com/pandas-tutorial-1-basics-reading-data-files-dataframes-data-selection/"
   ]
  },
  {
   "cell_type": "code",
   "execution_count": 42,
   "metadata": {
    "colab": {
     "base_uri": "https://localhost:8080/",
     "height": 195
    },
    "executionInfo": {
     "elapsed": 1865,
     "status": "ok",
     "timestamp": 1607706378124,
     "user": {
      "displayName": "Afifah Berry",
      "photoUrl": "",
      "userId": "17791867629584628795"
     },
     "user_tz": -300
    },
    "id": "pYs6mARxtXjv",
    "outputId": "443b1aab-2750-47bf-d295-63dd547ad9b0"
   },
   "outputs": [
    {
     "data": {
      "text/html": [
       "<div>\n",
       "<style scoped>\n",
       "    .dataframe tbody tr th:only-of-type {\n",
       "        vertical-align: middle;\n",
       "    }\n",
       "\n",
       "    .dataframe tbody tr th {\n",
       "        vertical-align: top;\n",
       "    }\n",
       "\n",
       "    .dataframe thead th {\n",
       "        text-align: right;\n",
       "    }\n",
       "</style>\n",
       "<table border=\"1\" class=\"dataframe\">\n",
       "  <thead>\n",
       "    <tr style=\"text-align: right;\">\n",
       "      <th></th>\n",
       "      <th>age</th>\n",
       "      <th>sex</th>\n",
       "      <th>bmi</th>\n",
       "      <th>children</th>\n",
       "      <th>smoker</th>\n",
       "      <th>region</th>\n",
       "      <th>charges</th>\n",
       "    </tr>\n",
       "  </thead>\n",
       "  <tbody>\n",
       "    <tr>\n",
       "      <th>0</th>\n",
       "      <td>19</td>\n",
       "      <td>female</td>\n",
       "      <td>27.900</td>\n",
       "      <td>0</td>\n",
       "      <td>yes</td>\n",
       "      <td>southwest</td>\n",
       "      <td>16884.92400</td>\n",
       "    </tr>\n",
       "    <tr>\n",
       "      <th>1</th>\n",
       "      <td>18</td>\n",
       "      <td>male</td>\n",
       "      <td>33.770</td>\n",
       "      <td>1</td>\n",
       "      <td>no</td>\n",
       "      <td>southeast</td>\n",
       "      <td>1725.55230</td>\n",
       "    </tr>\n",
       "    <tr>\n",
       "      <th>2</th>\n",
       "      <td>28</td>\n",
       "      <td>male</td>\n",
       "      <td>33.000</td>\n",
       "      <td>3</td>\n",
       "      <td>no</td>\n",
       "      <td>southeast</td>\n",
       "      <td>4449.46200</td>\n",
       "    </tr>\n",
       "    <tr>\n",
       "      <th>3</th>\n",
       "      <td>33</td>\n",
       "      <td>male</td>\n",
       "      <td>22.705</td>\n",
       "      <td>0</td>\n",
       "      <td>no</td>\n",
       "      <td>northwest</td>\n",
       "      <td>21984.47061</td>\n",
       "    </tr>\n",
       "    <tr>\n",
       "      <th>4</th>\n",
       "      <td>32</td>\n",
       "      <td>male</td>\n",
       "      <td>28.880</td>\n",
       "      <td>0</td>\n",
       "      <td>no</td>\n",
       "      <td>northwest</td>\n",
       "      <td>3866.85520</td>\n",
       "    </tr>\n",
       "  </tbody>\n",
       "</table>\n",
       "</div>"
      ],
      "text/plain": [
       "   age     sex     bmi  children smoker     region      charges\n",
       "0   19  female  27.900         0    yes  southwest  16884.92400\n",
       "1   18    male  33.770         1     no  southeast   1725.55230\n",
       "2   28    male  33.000         3     no  southeast   4449.46200\n",
       "3   33    male  22.705         0     no  northwest  21984.47061\n",
       "4   32    male  28.880         0     no  northwest   3866.85520"
      ]
     },
     "execution_count": 42,
     "metadata": {},
     "output_type": "execute_result"
    }
   ],
   "source": [
    "dataframe_raw = pd.read_csv(DATA_FILENAME)\n",
    "dataframe_raw.head()"
   ]
  },
  {
   "cell_type": "markdown",
   "metadata": {
    "id": "MDwTVmL0tXjw"
   },
   "source": [
    "We're going to do a slight customization of the data, so that you every participant receives a slightly different version of the dataset. Fill in your name below as a string (enter at least 5 characters)"
   ]
  },
  {
   "cell_type": "code",
   "execution_count": 43,
   "metadata": {
    "executionInfo": {
     "elapsed": 995,
     "status": "ok",
     "timestamp": 1607706389254,
     "user": {
      "displayName": "Afifah Berry",
      "photoUrl": "",
      "userId": "17791867629584628795"
     },
     "user_tz": -300
    },
    "id": "x5XCoYrTtXj2"
   },
   "outputs": [],
   "source": [
    "your_name = 'Afifah'"
   ]
  },
  {
   "cell_type": "markdown",
   "metadata": {
    "id": "UQtPUo6ZtXj4"
   },
   "source": [
    "The `customize_dataset` function will customize the dataset slightly using your name as a source of random numbers."
   ]
  },
  {
   "cell_type": "code",
   "execution_count": 44,
   "metadata": {
    "executionInfo": {
     "elapsed": 1067,
     "status": "ok",
     "timestamp": 1607706391091,
     "user": {
      "displayName": "Afifah Berry",
      "photoUrl": "",
      "userId": "17791867629584628795"
     },
     "user_tz": -300
    },
    "id": "D8HJIk9ctXj5"
   },
   "outputs": [],
   "source": [
    "def customize_dataset(dataframe_raw, rand_str):\n",
    "    dataframe = dataframe_raw.copy(deep=True)\n",
    "    # drop some rows\n",
    "    dataframe = dataframe.sample(int(0.95*len(dataframe)), random_state=int(ord(rand_str[0])))\n",
    "    # scale input\n",
    "    dataframe.bmi = dataframe.bmi * ord(rand_str[1])/100.\n",
    "    # scale target\n",
    "    dataframe.charges = dataframe.charges * ord(rand_str[2])/100.\n",
    "    # drop column\n",
    "    if ord(rand_str[3]) % 2 == 1:\n",
    "        dataframe = dataframe.drop(['region'], axis=1)\n",
    "    return dataframe"
   ]
  },
  {
   "cell_type": "code",
   "execution_count": 45,
   "metadata": {
    "colab": {
     "base_uri": "https://localhost:8080/",
     "height": 195
    },
    "executionInfo": {
     "elapsed": 962,
     "status": "ok",
     "timestamp": 1607706397077,
     "user": {
      "displayName": "Afifah Berry",
      "photoUrl": "",
      "userId": "17791867629584628795"
     },
     "user_tz": -300
    },
    "id": "nPXs2Av-tXj7",
    "outputId": "3421374d-cb5a-4e00-fc60-ee2b15f6bf28"
   },
   "outputs": [
    {
     "data": {
      "text/html": [
       "<div>\n",
       "<style scoped>\n",
       "    .dataframe tbody tr th:only-of-type {\n",
       "        vertical-align: middle;\n",
       "    }\n",
       "\n",
       "    .dataframe tbody tr th {\n",
       "        vertical-align: top;\n",
       "    }\n",
       "\n",
       "    .dataframe thead th {\n",
       "        text-align: right;\n",
       "    }\n",
       "</style>\n",
       "<table border=\"1\" class=\"dataframe\">\n",
       "  <thead>\n",
       "    <tr style=\"text-align: right;\">\n",
       "      <th></th>\n",
       "      <th>age</th>\n",
       "      <th>sex</th>\n",
       "      <th>bmi</th>\n",
       "      <th>children</th>\n",
       "      <th>smoker</th>\n",
       "      <th>region</th>\n",
       "      <th>charges</th>\n",
       "    </tr>\n",
       "  </thead>\n",
       "  <tbody>\n",
       "    <tr>\n",
       "      <th>27</th>\n",
       "      <td>55</td>\n",
       "      <td>female</td>\n",
       "      <td>33.4305</td>\n",
       "      <td>2</td>\n",
       "      <td>no</td>\n",
       "      <td>northwest</td>\n",
       "      <td>12882.063862</td>\n",
       "    </tr>\n",
       "    <tr>\n",
       "      <th>752</th>\n",
       "      <td>64</td>\n",
       "      <td>male</td>\n",
       "      <td>38.6631</td>\n",
       "      <td>0</td>\n",
       "      <td>no</td>\n",
       "      <td>northwest</td>\n",
       "      <td>14921.062747</td>\n",
       "    </tr>\n",
       "    <tr>\n",
       "      <th>1258</th>\n",
       "      <td>55</td>\n",
       "      <td>male</td>\n",
       "      <td>38.4693</td>\n",
       "      <td>3</td>\n",
       "      <td>no</td>\n",
       "      <td>northwest</td>\n",
       "      <td>31566.759578</td>\n",
       "    </tr>\n",
       "    <tr>\n",
       "      <th>384</th>\n",
       "      <td>44</td>\n",
       "      <td>male</td>\n",
       "      <td>22.5777</td>\n",
       "      <td>2</td>\n",
       "      <td>no</td>\n",
       "      <td>northeast</td>\n",
       "      <td>8717.662432</td>\n",
       "    </tr>\n",
       "    <tr>\n",
       "      <th>406</th>\n",
       "      <td>33</td>\n",
       "      <td>female</td>\n",
       "      <td>24.7962</td>\n",
       "      <td>0</td>\n",
       "      <td>no</td>\n",
       "      <td>southeast</td>\n",
       "      <td>4394.352795</td>\n",
       "    </tr>\n",
       "  </tbody>\n",
       "</table>\n",
       "</div>"
      ],
      "text/plain": [
       "      age     sex      bmi  children smoker     region       charges\n",
       "27     55  female  33.4305         2     no  northwest  12882.063862\n",
       "752    64    male  38.6631         0     no  northwest  14921.062747\n",
       "1258   55    male  38.4693         3     no  northwest  31566.759578\n",
       "384    44    male  22.5777         2     no  northeast   8717.662432\n",
       "406    33  female  24.7962         0     no  southeast   4394.352795"
      ]
     },
     "execution_count": 45,
     "metadata": {},
     "output_type": "execute_result"
    }
   ],
   "source": [
    "dataframe = customize_dataset(dataframe_raw, your_name)\n",
    "dataframe.head()"
   ]
  },
  {
   "cell_type": "markdown",
   "metadata": {
    "id": "mHenFABztXj8"
   },
   "source": [
    "Let us answer some basic questions about the dataset. \n",
    "\n",
    "\n",
    "**Q: How many rows does the dataset have?**"
   ]
  },
  {
   "cell_type": "code",
   "execution_count": 46,
   "metadata": {
    "colab": {
     "base_uri": "https://localhost:8080/"
    },
    "executionInfo": {
     "elapsed": 982,
     "status": "ok",
     "timestamp": 1607706412866,
     "user": {
      "displayName": "Afifah Berry",
      "photoUrl": "",
      "userId": "17791867629584628795"
     },
     "user_tz": -300
    },
    "id": "JA7khk5WtXj8",
    "outputId": "1608aab7-1620-45d2-aa67-84c726bd0bae"
   },
   "outputs": [
    {
     "name": "stdout",
     "output_type": "stream",
     "text": [
      "1271\n"
     ]
    }
   ],
   "source": [
    "num_rows = len(dataframe)\n",
    "print(num_rows)"
   ]
  },
  {
   "cell_type": "markdown",
   "metadata": {
    "id": "5gU-WdYktXj9"
   },
   "source": [
    "**Q: How many columns doe the dataset have**"
   ]
  },
  {
   "cell_type": "code",
   "execution_count": 47,
   "metadata": {
    "colab": {
     "base_uri": "https://localhost:8080/"
    },
    "executionInfo": {
     "elapsed": 1592,
     "status": "ok",
     "timestamp": 1607706430349,
     "user": {
      "displayName": "Afifah Berry",
      "photoUrl": "",
      "userId": "17791867629584628795"
     },
     "user_tz": -300
    },
    "id": "J0s6ZyXztXj-",
    "outputId": "a80c7892-f324-4692-f220-acf984ae032b"
   },
   "outputs": [
    {
     "name": "stdout",
     "output_type": "stream",
     "text": [
      "7\n"
     ]
    }
   ],
   "source": [
    "num_cols = dataframe.shape[1]\n",
    "print(num_cols)"
   ]
  },
  {
   "cell_type": "markdown",
   "metadata": {
    "id": "WtmSfA5GtXj-"
   },
   "source": [
    "**Q: What are the column titles of the input variables?**"
   ]
  },
  {
   "cell_type": "code",
   "execution_count": 48,
   "metadata": {
    "colab": {
     "base_uri": "https://localhost:8080/"
    },
    "executionInfo": {
     "elapsed": 1341,
     "status": "ok",
     "timestamp": 1607706706870,
     "user": {
      "displayName": "Afifah Berry",
      "photoUrl": "",
      "userId": "17791867629584628795"
     },
     "user_tz": -300
    },
    "id": "xXEMFeiNtXj_",
    "outputId": "fe69de3a-cd3c-4116-c63a-9a2c241c3f0e"
   },
   "outputs": [
    {
     "data": {
      "text/plain": [
       "['age', 'sex', 'bmi', 'children', 'smoker', 'region']"
      ]
     },
     "execution_count": 48,
     "metadata": {},
     "output_type": "execute_result"
    }
   ],
   "source": [
    "input_cols = [i for i in dataframe.columns[:-1]]\n",
    "input_cols"
   ]
  },
  {
   "cell_type": "markdown",
   "metadata": {
    "id": "R8D6IGaetXj_"
   },
   "source": [
    "**Q: Which of the input columns are non-numeric or categorial variables ?**\n",
    "\n",
    "Hint: `sex` is one of them. List the columns that are not numbers."
   ]
  },
  {
   "cell_type": "code",
   "execution_count": 49,
   "metadata": {
    "colab": {
     "base_uri": "https://localhost:8080/",
     "height": 402
    },
    "executionInfo": {
     "elapsed": 939,
     "status": "ok",
     "timestamp": 1607707128957,
     "user": {
      "displayName": "Afifah Berry",
      "photoUrl": "",
      "userId": "17791867629584628795"
     },
     "user_tz": -300
    },
    "id": "NhAJT89ytXkA",
    "outputId": "4ce5072b-92d2-41a6-a44c-c25e48c20535"
   },
   "outputs": [
    {
     "data": {
      "text/html": [
       "<div>\n",
       "<style scoped>\n",
       "    .dataframe tbody tr th:only-of-type {\n",
       "        vertical-align: middle;\n",
       "    }\n",
       "\n",
       "    .dataframe tbody tr th {\n",
       "        vertical-align: top;\n",
       "    }\n",
       "\n",
       "    .dataframe thead th {\n",
       "        text-align: right;\n",
       "    }\n",
       "</style>\n",
       "<table border=\"1\" class=\"dataframe\">\n",
       "  <thead>\n",
       "    <tr style=\"text-align: right;\">\n",
       "      <th></th>\n",
       "      <th>sex</th>\n",
       "      <th>smoker</th>\n",
       "      <th>region</th>\n",
       "    </tr>\n",
       "  </thead>\n",
       "  <tbody>\n",
       "    <tr>\n",
       "      <th>27</th>\n",
       "      <td>female</td>\n",
       "      <td>no</td>\n",
       "      <td>northwest</td>\n",
       "    </tr>\n",
       "    <tr>\n",
       "      <th>752</th>\n",
       "      <td>male</td>\n",
       "      <td>no</td>\n",
       "      <td>northwest</td>\n",
       "    </tr>\n",
       "    <tr>\n",
       "      <th>1258</th>\n",
       "      <td>male</td>\n",
       "      <td>no</td>\n",
       "      <td>northwest</td>\n",
       "    </tr>\n",
       "    <tr>\n",
       "      <th>384</th>\n",
       "      <td>male</td>\n",
       "      <td>no</td>\n",
       "      <td>northeast</td>\n",
       "    </tr>\n",
       "    <tr>\n",
       "      <th>406</th>\n",
       "      <td>female</td>\n",
       "      <td>no</td>\n",
       "      <td>southeast</td>\n",
       "    </tr>\n",
       "    <tr>\n",
       "      <th>...</th>\n",
       "      <td>...</td>\n",
       "      <td>...</td>\n",
       "      <td>...</td>\n",
       "    </tr>\n",
       "    <tr>\n",
       "      <th>909</th>\n",
       "      <td>female</td>\n",
       "      <td>yes</td>\n",
       "      <td>southwest</td>\n",
       "    </tr>\n",
       "    <tr>\n",
       "      <th>861</th>\n",
       "      <td>female</td>\n",
       "      <td>no</td>\n",
       "      <td>southwest</td>\n",
       "    </tr>\n",
       "    <tr>\n",
       "      <th>463</th>\n",
       "      <td>male</td>\n",
       "      <td>no</td>\n",
       "      <td>northeast</td>\n",
       "    </tr>\n",
       "    <tr>\n",
       "      <th>1150</th>\n",
       "      <td>female</td>\n",
       "      <td>no</td>\n",
       "      <td>northeast</td>\n",
       "    </tr>\n",
       "    <tr>\n",
       "      <th>501</th>\n",
       "      <td>male</td>\n",
       "      <td>no</td>\n",
       "      <td>northeast</td>\n",
       "    </tr>\n",
       "  </tbody>\n",
       "</table>\n",
       "<p>1271 rows × 3 columns</p>\n",
       "</div>"
      ],
      "text/plain": [
       "         sex smoker     region\n",
       "27    female     no  northwest\n",
       "752     male     no  northwest\n",
       "1258    male     no  northwest\n",
       "384     male     no  northeast\n",
       "406   female     no  southeast\n",
       "...      ...    ...        ...\n",
       "909   female    yes  southwest\n",
       "861   female     no  southwest\n",
       "463     male     no  northeast\n",
       "1150  female     no  northeast\n",
       "501     male     no  northeast\n",
       "\n",
       "[1271 rows x 3 columns]"
      ]
     },
     "execution_count": 49,
     "metadata": {},
     "output_type": "execute_result"
    }
   ],
   "source": [
    "categorical_cols = dataframe.select_dtypes(exclude = ['number'])\n",
    "categorical_cols"
   ]
  },
  {
   "cell_type": "markdown",
   "metadata": {
    "id": "wX8VvSpTtXkB"
   },
   "source": [
    "**Q: What are the column titles of output/target variable(s)?**"
   ]
  },
  {
   "cell_type": "code",
   "execution_count": 50,
   "metadata": {
    "colab": {
     "base_uri": "https://localhost:8080/"
    },
    "executionInfo": {
     "elapsed": 2263,
     "status": "ok",
     "timestamp": 1607707093251,
     "user": {
      "displayName": "Afifah Berry",
      "photoUrl": "",
      "userId": "17791867629584628795"
     },
     "user_tz": -300
    },
    "id": "KlH9XwEstXkI",
    "outputId": "fc88e364-504f-4d35-f158-a5c9e22b8761"
   },
   "outputs": [
    {
     "data": {
      "text/plain": [
       "'charges'"
      ]
     },
     "execution_count": 50,
     "metadata": {},
     "output_type": "execute_result"
    }
   ],
   "source": [
    "output_cols = dataframe.columns[-1]\n",
    "output_cols"
   ]
  },
  {
   "cell_type": "markdown",
   "metadata": {
    "id": "RiM8eH9gtXkJ"
   },
   "source": [
    "**Q: (Optional) What is the minimum, maximum and average value of the `charges` column? Can you show the distribution of values in a graph?**\n",
    "Use this data visualization cheatsheet for referece: https://jovian.ml/aakashns/dataviz-cheatsheet"
   ]
  },
  {
   "cell_type": "code",
   "execution_count": 51,
   "metadata": {
    "colab": {
     "base_uri": "https://localhost:8080/"
    },
    "executionInfo": {
     "elapsed": 993,
     "status": "ok",
     "timestamp": 1607706822850,
     "user": {
      "displayName": "Afifah Berry",
      "photoUrl": "",
      "userId": "17791867629584628795"
     },
     "user_tz": -300
    },
    "id": "gsqZlkG_tXkK",
    "outputId": "06d44a0c-c4eb-40d4-fcd3-510789f127f6"
   },
   "outputs": [
    {
     "data": {
      "text/plain": [
       "count     1271.000000\n",
       "mean     13957.905484\n",
       "std      12760.977804\n",
       "min       1177.967595\n",
       "25%       4954.806990\n",
       "50%       9860.913300\n",
       "75%      17682.701369\n",
       "max      66958.949411\n",
       "Name: charges, dtype: float64"
      ]
     },
     "execution_count": 51,
     "metadata": {},
     "output_type": "execute_result"
    }
   ],
   "source": [
    "# Write your answer here\n",
    "charges = dataframe['charges']\n",
    "charges.describe()"
   ]
  },
  {
   "cell_type": "code",
   "execution_count": 52,
   "metadata": {
    "colab": {
     "base_uri": "https://localhost:8080/",
     "height": 379
    },
    "executionInfo": {
     "elapsed": 1164,
     "status": "ok",
     "timestamp": 1607706924330,
     "user": {
      "displayName": "Afifah Berry",
      "photoUrl": "",
      "userId": "17791867629584628795"
     },
     "user_tz": -300
    },
    "id": "P9RZBxiey2uk",
    "outputId": "771af48a-8a1c-4479-9243-1035c2b65ee6"
   },
   "outputs": [
    {
     "data": {
      "text/plain": [
       "(array([510., 377., 121.,  83.,  33.,  56.,  54.,  31.,   2.,   4.]),\n",
       " array([ 1177.967595  ,  7756.06577655, 14334.1639581 , 20912.26213965,\n",
       "        27490.3603212 , 34068.45850275, 40646.5566843 , 47224.65486585,\n",
       "        53802.7530474 , 60380.85122895, 66958.9494105 ]),\n",
       " <BarContainer object of 10 artists>)"
      ]
     },
     "execution_count": 52,
     "metadata": {},
     "output_type": "execute_result"
    },
    {
     "data": {
      "image/png": "[encoded data removed]",
      "text/plain": [
       "<Figure size 432x288 with 1 Axes>"
      ]
     },
     "metadata": {
      "needs_background": "light"
     },
     "output_type": "display_data"
    }
   ],
   "source": [
    "plt.xlabel('value')\n",
    "plt.ylabel('count')\n",
    "plt.title('CHARGES')\n",
    "plt.hist(charges)\n"
   ]
  },
  {
   "cell_type": "markdown",
   "metadata": {
    "id": "jg3cNlhntXkL"
   },
   "source": [
    "Remember to commit your notebook to Jovian after every step, so that you don't lose your work."
   ]
  },
  {
   "cell_type": "code",
   "execution_count": 53,
   "metadata": {
    "executionInfo": {
     "elapsed": 3562,
     "status": "ok",
     "timestamp": 1607707151060,
     "user": {
      "displayName": "Afifah Berry",
      "photoUrl": "",
      "userId": "17791867629584628795"
     },
     "user_tz": -300
    },
    "id": "8AiEsMjqtXkM"
   },
   "outputs": [],
   "source": [
    "!pip install jovian --upgrade -q"
   ]
  },
  {
   "cell_type": "code",
   "execution_count": 54,
   "metadata": {
    "executionInfo": {
     "elapsed": 921,
     "status": "ok",
     "timestamp": 1607707155252,
     "user": {
      "displayName": "Afifah Berry",
      "photoUrl": "",
      "userId": "17791867629584628795"
     },
     "user_tz": -300
    },
    "id": "Z7DyBwkltXkM"
   },
   "outputs": [],
   "source": [
    "import jovian"
   ]
  },
  {
   "cell_type": "code",
   "execution_count": 55,
   "metadata": {
    "colab": {
     "base_uri": "https://localhost:8080/",
     "height": 136
    },
    "executionInfo": {
     "elapsed": 17071,
     "status": "ok",
     "timestamp": 1607707213411,
     "user": {
      "displayName": "Afifah Berry",
      "photoUrl": "",
      "userId": "17791867629584628795"
     },
     "user_tz": -300
    },
    "id": "KolbYwK_tXkN",
    "outputId": "4f5077b6-e7e0-42b3-a47a-bdcc9dc40d54"
   },
   "outputs": [
    {
     "data": {
      "application/javascript": [
       "window.require && require([\"base/js/namespace\"],function(Jupyter){Jupyter.notebook.save_checkpoint()})"
      ],
      "text/plain": [
       "<IPython.core.display.Javascript object>"
      ]
     },
     "metadata": {},
     "output_type": "display_data"
    },
    {
     "name": "stdout",
     "output_type": "stream",
     "text": [
      "[jovian] Attempting to save notebook..\u001b[0m\n",
      "[jovian] Creating a new project \"afifahluqman/02-insurance-linear.ipynb\"\u001b[0m\n",
      "[jovian] Uploading notebook..\u001b[0m\n",
      "[jovian] Uploading additional files...\u001b[0m\n",
      "[jovian] Committed successfully! https://jovian.ai/afifahluqman/02-insurance-linear-26958\u001b[0m\n"
     ]
    },
    {
     "data": {
      "text/plain": [
       "'https://jovian.ai/afifahluqman/02-insurance-linear-26958'"
      ]
     },
     "execution_count": 55,
     "metadata": {},
     "output_type": "execute_result"
    }
   ],
   "source": [
    "jovian.commit(project='02-insurance-linear.ipynb')"
   ]
  },
  {
   "cell_type": "markdown",
   "metadata": {
    "id": "RAHJt8I7tXkO"
   },
   "source": [
    "## Step 2: Prepare the dataset for training\n",
    "\n",
    "We need to convert the data from the Pandas dataframe into a PyTorch tensors for training. To do this, the first step is to convert it numpy arrays. If you've filled out `input_cols`, `categorial_cols` and `output_cols` correctly, this following function will perform the conversion to numpy arrays."
   ]
  },
  {
   "cell_type": "code",
   "execution_count": 56,
   "metadata": {
    "executionInfo": {
     "elapsed": 2160,
     "status": "ok",
     "timestamp": 1607707649187,
     "user": {
      "displayName": "Afifah Berry",
      "photoUrl": "",
      "userId": "17791867629584628795"
     },
     "user_tz": -300
    },
    "id": "rpociOKmtXkO"
   },
   "outputs": [],
   "source": [
    "def dataframe_to_arrays(dataframe):\n",
    "    # Make a copy of the original dataframe\n",
    "    dataframe1 = dataframe.copy(deep=True)\n",
    "    # Convert non-numeric categorical columns to numbers\n",
    "    for col in categorical_cols:\n",
    "        dataframe1[col] = dataframe1[col].astype('category').cat.codes\n",
    "    # Extract input & outupts as numpy arrays\n",
    "    inputs_array = dataframe1[input_cols].to_numpy()\n",
    "    targets_array = dataframe1[output_cols].to_numpy()\n",
    "    return inputs_array, targets_array"
   ]
  },
  {
   "cell_type": "markdown",
   "metadata": {
    "id": "dNIC5MA4tXkU"
   },
   "source": [
    "Read through the [Pandas documentation](https://pandas.pydata.org/pandas-docs/stable/user_guide/categorical.html) to understand how we're converting categorical variables into numbers."
   ]
  },
  {
   "cell_type": "code",
   "execution_count": 57,
   "metadata": {
    "colab": {
     "base_uri": "https://localhost:8080/",
     "height": 370
    },
    "executionInfo": {
     "elapsed": 1758,
     "status": "error",
     "timestamp": 1607707634680,
     "user": {
      "displayName": "Afifah Berry",
      "photoUrl": "",
      "userId": "17791867629584628795"
     },
     "user_tz": -300
    },
    "id": "DzFlXDjJtXkV",
    "outputId": "0d688c13-7c9c-41bc-b9af-a6ad928511db"
   },
   "outputs": [
    {
     "data": {
      "text/plain": [
       "(array([[55.    ,  0.    , 33.4305,  2.    ,  0.    ,  1.    ],\n",
       "        [64.    ,  1.    , 38.6631,  0.    ,  0.    ,  1.    ],\n",
       "        [55.    ,  1.    , 38.4693,  3.    ,  0.    ,  1.    ],\n",
       "        ...,\n",
       "        [56.    ,  1.    , 26.4537,  0.    ,  0.    ,  0.    ],\n",
       "        [18.    ,  0.    , 30.9111,  0.    ,  0.    ,  0.    ],\n",
       "        [43.    ,  1.    , 26.5506,  0.    ,  0.    ,  0.    ]]),\n",
       " array([12882.0638625, 14921.0627475, 31566.7595775, ..., 11723.6885325,\n",
       "         2313.9227475,  7179.237135 ]))"
      ]
     },
     "execution_count": 57,
     "metadata": {},
     "output_type": "execute_result"
    }
   ],
   "source": [
    "inputs_array, targets_array = dataframe_to_arrays(dataframe)\n",
    "inputs_array, targets_array"
   ]
  },
  {
   "cell_type": "code",
   "execution_count": 58,
   "metadata": {
    "id": "5VpMiXtSBp4s"
   },
   "outputs": [
    {
     "data": {
      "application/javascript": [
       "window.require && require([\"base/js/namespace\"],function(Jupyter){Jupyter.notebook.save_checkpoint()})"
      ],
      "text/plain": [
       "<IPython.core.display.Javascript object>"
      ]
     },
     "metadata": {},
     "output_type": "display_data"
    },
    {
     "name": "stdout",
     "output_type": "stream",
     "text": [
      "[jovian] Attempting to save notebook..\u001b[0m\n",
      "[jovian] Creating a new project \"afifahluqman/02-insurance-linear.ipynb\"\u001b[0m\n",
      "[jovian] Uploading notebook..\u001b[0m\n",
      "[jovian] Uploading additional files...\u001b[0m\n",
      "[jovian] Committed successfully! https://jovian.ai/afifahluqman/02-insurance-linear-108e5\u001b[0m\n"
     ]
    },
    {
     "data": {
      "text/plain": [
       "'https://jovian.ai/afifahluqman/02-insurance-linear-108e5'"
      ]
     },
     "execution_count": 58,
     "metadata": {},
     "output_type": "execute_result"
    }
   ],
   "source": [
    "jovian.commit(project='02-insurance-linear.ipynb')"
   ]
  },
  {
   "cell_type": "markdown",
   "metadata": {
    "id": "Dys5p6K4tXkW"
   },
   "source": [
    "**Q: Convert the numpy arrays `inputs_array` and `targets_array` into PyTorch tensors. Make sure that the data type is `torch.float32`.**"
   ]
  },
  {
   "cell_type": "code",
   "execution_count": 59,
   "metadata": {
    "id": "S9IfxI34tXkX"
   },
   "outputs": [],
   "source": [
    "inputs = torch.Tensor(inputs_array)\n",
    "targets = torch.Tensor(targets_array)"
   ]
  },
  {
   "cell_type": "code",
   "execution_count": 60,
   "metadata": {
    "id": "TuKn_x1btXkY"
   },
   "outputs": [
    {
     "data": {
      "text/plain": [
       "(torch.float32, torch.float32)"
      ]
     },
     "execution_count": 60,
     "metadata": {},
     "output_type": "execute_result"
    }
   ],
   "source": [
    "inputs.dtype, targets.dtype"
   ]
  },
  {
   "cell_type": "code",
   "execution_count": 83,
   "metadata": {},
   "outputs": [
    {
     "data": {
      "text/plain": [
       "(torch.Size([1271]), torch.Size([1271, 6]))"
      ]
     },
     "execution_count": 83,
     "metadata": {},
     "output_type": "execute_result"
    }
   ],
   "source": [
    "targets.shape, inputs.shape"
   ]
  },
  {
   "cell_type": "code",
   "execution_count": 85,
   "metadata": {},
   "outputs": [],
   "source": [
    "targets = targets.unsqueeze(1)"
   ]
  },
  {
   "cell_type": "code",
   "execution_count": 87,
   "metadata": {},
   "outputs": [
    {
     "data": {
      "text/plain": [
       "(torch.Size([1271, 1]), torch.Size([1271, 6]))"
      ]
     },
     "execution_count": 87,
     "metadata": {},
     "output_type": "execute_result"
    }
   ],
   "source": [
    "targets.shape, inputs.shape"
   ]
  },
  {
   "cell_type": "markdown",
   "metadata": {
    "id": "BY1iNkRLtXkY"
   },
   "source": [
    "Next, we need to create PyTorch datasets & data loaders for training & validation. We'll start by creating a `TensorDataset`."
   ]
  },
  {
   "cell_type": "code",
   "execution_count": 88,
   "metadata": {
    "id": "SPVxJr5ktXkZ"
   },
   "outputs": [],
   "source": [
    "dataset = TensorDataset(inputs, targets)"
   ]
  },
  {
   "cell_type": "markdown",
   "metadata": {
    "id": "9s51LSz8tXka"
   },
   "source": [
    "**Q: Pick a number between `0.1` and `0.2` to determine the fraction of data that will be used for creating the validation set. Then use `random_split` to create training & validation datasets.**"
   ]
  },
  {
   "cell_type": "code",
   "execution_count": 89,
   "metadata": {
    "id": "Ko1Zhgo4tXkb"
   },
   "outputs": [],
   "source": [
    "val_percent = 0.12 # between 0.1 and 0.2\n",
    "val_size = int(num_rows * val_percent)\n",
    "train_size = num_rows - val_size\n",
    "\n",
    "\n",
    "train_ds, val_ds = random_split(dataset, [train_size, val_size]) # Use the random_split function to split dataset into 2 parts of the desired length"
   ]
  },
  {
   "cell_type": "markdown",
   "metadata": {
    "id": "aFilevpvtXkb"
   },
   "source": [
    "Finally, we can create data loaders for training & validation.\n",
    "\n",
    "**Q: Pick a batch size for the data loader.**"
   ]
  },
  {
   "cell_type": "code",
   "execution_count": 90,
   "metadata": {
    "id": "TRNWIV-MtXkc"
   },
   "outputs": [],
   "source": [
    "batch_size = 70"
   ]
  },
  {
   "cell_type": "code",
   "execution_count": 91,
   "metadata": {
    "id": "wFtzH-3DtXkc"
   },
   "outputs": [],
   "source": [
    "train_loader = DataLoader(train_ds, batch_size, shuffle=True)\n",
    "val_loader = DataLoader(val_ds, batch_size)"
   ]
  },
  {
   "cell_type": "markdown",
   "metadata": {
    "id": "ymmHHVAitXkd"
   },
   "source": [
    "Let's look at a batch of data to verify everything is working fine so far."
   ]
  },
  {
   "cell_type": "code",
   "execution_count": 92,
   "metadata": {
    "id": "KR1T1nC6tXkd"
   },
   "outputs": [
    {
     "name": "stdout",
     "output_type": "stream",
     "text": [
      "inputs: tensor([[59.0000,  1.0000, 30.2940,  2.0000,  0.0000,  2.0000],\n",
      "        [45.0000,  1.0000, 23.3529,  0.0000,  1.0000,  0.0000],\n",
      "        [32.0000,  1.0000, 32.1300,  1.0000,  0.0000,  3.0000],\n",
      "        [25.0000,  0.0000, 34.6698,  1.0000,  0.0000,  2.0000],\n",
      "        [57.0000,  1.0000, 34.6902,  0.0000,  0.0000,  1.0000],\n",
      "        [30.0000,  1.0000, 24.6126,  1.0000,  0.0000,  1.0000],\n",
      "        [51.0000,  0.0000, 41.4732,  0.0000,  0.0000,  0.0000],\n",
      "        [31.0000,  1.0000, 39.1578,  2.0000,  0.0000,  2.0000],\n",
      "        [42.0000,  0.0000, 30.0696,  2.0000,  0.0000,  2.0000],\n",
      "        [41.0000,  0.0000, 32.8440,  1.0000,  0.0000,  3.0000],\n",
      "        [49.0000,  0.0000, 23.0622,  1.0000,  0.0000,  1.0000],\n",
      "        [53.0000,  0.0000, 38.8212,  3.0000,  0.0000,  2.0000],\n",
      "        [51.0000,  1.0000, 32.9460,  1.0000,  0.0000,  0.0000],\n",
      "        [58.0000,  0.0000, 32.4615,  2.0000,  0.0000,  0.0000],\n",
      "        [18.0000,  1.0000, 30.6306,  1.0000,  0.0000,  2.0000],\n",
      "        [64.0000,  0.0000, 40.1166,  0.0000,  0.0000,  0.0000],\n",
      "        [42.0000,  0.0000, 38.6580,  0.0000,  0.0000,  3.0000],\n",
      "        [53.0000,  0.0000, 27.1320,  0.0000,  0.0000,  1.0000],\n",
      "        [57.0000,  0.0000, 31.7832,  0.0000,  1.0000,  1.0000],\n",
      "        [31.0000,  1.0000, 28.1979,  2.0000,  0.0000,  0.0000],\n",
      "        [22.0000,  1.0000, 25.6785,  0.0000,  0.0000,  1.0000],\n",
      "        [22.0000,  1.0000, 38.3724,  1.0000,  1.0000,  2.0000],\n",
      "        [24.0000,  0.0000, 28.2744,  0.0000,  0.0000,  2.0000],\n",
      "        [45.0000,  1.0000, 31.1049,  2.0000,  0.0000,  1.0000],\n",
      "        [53.0000,  0.0000, 40.3920,  1.0000,  0.0000,  2.0000],\n",
      "        [29.0000,  0.0000, 31.7832,  0.0000,  0.0000,  0.0000],\n",
      "        [18.0000,  1.0000, 25.9692,  0.0000,  0.0000,  0.0000],\n",
      "        [30.0000,  1.0000, 39.6066,  1.0000,  0.0000,  2.0000],\n",
      "        [51.0000,  0.0000, 34.8840,  1.0000,  0.0000,  3.0000],\n",
      "        [53.0000,  0.0000, 37.5972,  3.0000,  1.0000,  1.0000],\n",
      "        [51.0000,  0.0000, 34.5933,  0.0000,  0.0000,  0.0000],\n",
      "        [63.0000,  0.0000, 32.8440,  2.0000,  1.0000,  3.0000],\n",
      "        [49.0000,  0.0000, 43.5336,  2.0000,  0.0000,  2.0000],\n",
      "        [36.0000,  0.0000, 26.3568,  0.0000,  0.0000,  1.0000],\n",
      "        [21.0000,  1.0000, 26.2140,  4.0000,  1.0000,  3.0000],\n",
      "        [42.0000,  0.0000, 41.1774,  2.0000,  1.0000,  2.0000],\n",
      "        [37.0000,  1.0000, 30.4266,  2.0000,  0.0000,  0.0000],\n",
      "        [34.0000,  1.0000, 31.4160,  0.0000,  1.0000,  3.0000],\n",
      "        [39.0000,  0.0000, 33.1500,  1.0000,  0.0000,  3.0000],\n",
      "        [43.0000,  1.0000, 27.9072,  3.0000,  0.0000,  0.0000],\n",
      "        [46.0000,  1.0000, 40.2135,  1.0000,  0.0000,  0.0000],\n",
      "        [46.0000,  1.0000, 25.2909,  3.0000,  0.0000,  0.0000],\n",
      "        [42.0000,  1.0000, 30.6000,  0.0000,  1.0000,  3.0000],\n",
      "        [57.0000,  0.0000, 29.2740,  0.0000,  0.0000,  3.0000],\n",
      "        [52.0000,  0.0000, 38.2755,  2.0000,  0.0000,  1.0000],\n",
      "        [52.0000,  1.0000, 33.4305,  3.0000,  0.0000,  1.0000],\n",
      "        [52.0000,  1.0000, 24.8064,  3.0000,  1.0000,  0.0000],\n",
      "        [61.0000,  1.0000, 32.2014,  0.0000,  0.0000,  2.0000],\n",
      "        [52.0000,  1.0000, 42.6360,  2.0000,  1.0000,  2.0000],\n",
      "        [60.0000,  1.0000, 29.4780,  0.0000,  0.0000,  3.0000],\n",
      "        [51.0000,  1.0000, 23.6742,  1.0000,  1.0000,  2.0000],\n",
      "        [60.0000,  0.0000, 38.8212,  0.0000,  0.0000,  2.0000],\n",
      "        [61.0000,  1.0000, 44.2680,  0.0000,  0.0000,  3.0000],\n",
      "        [29.0000,  0.0000, 22.2870,  0.0000,  1.0000,  0.0000],\n",
      "        [29.0000,  1.0000, 35.0880,  0.0000,  1.0000,  3.0000],\n",
      "        [22.0000,  1.0000, 36.3120,  0.0000,  1.0000,  3.0000],\n",
      "        [55.0000,  1.0000, 33.4305,  0.0000,  0.0000,  1.0000],\n",
      "        [61.0000,  0.0000, 37.1127,  1.0000,  1.0000,  0.0000],\n",
      "        [25.0000,  0.0000, 29.1669,  0.0000,  0.0000,  0.0000],\n",
      "        [29.0000,  0.0000, 32.7522,  2.0000,  0.0000,  1.0000],\n",
      "        [27.0000,  0.0000, 24.5820,  0.0000,  0.0000,  3.0000],\n",
      "        [53.0000,  0.0000, 24.2250,  2.0000,  0.0000,  0.0000],\n",
      "        [36.0000,  0.0000, 20.2521,  0.0000,  0.0000,  0.0000],\n",
      "        [27.0000,  1.0000, 29.0700,  0.0000,  1.0000,  1.0000],\n",
      "        [44.0000,  0.0000, 28.1979,  0.0000,  0.0000,  1.0000],\n",
      "        [36.0000,  0.0000, 28.2948,  0.0000,  0.0000,  0.0000],\n",
      "        [33.0000,  0.0000, 24.7962,  0.0000,  0.0000,  2.0000],\n",
      "        [35.0000,  0.0000, 36.5772,  2.0000,  0.0000,  2.0000],\n",
      "        [55.0000,  1.0000, 33.6600,  0.0000,  0.0000,  2.0000],\n",
      "        [40.0000,  1.0000, 25.5816,  0.0000,  0.0000,  2.0000]])\n",
      "targets: tensor([[13572.1807],\n",
      "        [36822.8438],\n",
      "        [ 4280.3218],\n",
      "        [ 3388.4771],\n",
      "        [11924.4941],\n",
      "        [ 4233.8525],\n",
      "        [10369.4648],\n",
      "        [ 4686.3652],\n",
      "        [ 8022.3247],\n",
      "        [ 7114.7593],\n",
      "        [10045.3408],\n",
      "        [21486.1484],\n",
      "        [10462.2627],\n",
      "        [14287.7373],\n",
      "        [ 1806.3713],\n",
      "        [15646.5928],\n",
      "        [ 6797.7139],\n",
      "        [10873.4229],\n",
      "        [45757.8867],\n",
      "        [ 5282.8330],\n",
      "        [ 2147.9695],\n",
      "        [39023.4219],\n",
      "        [ 2587.8499],\n",
      "        [ 8834.1357],\n",
      "        [11108.6963],\n",
      "        [ 4140.7754],\n",
      "        [ 1793.4015],\n",
      "        [19911.3301],\n",
      "        [10366.3359],\n",
      "        [48994.5156],\n",
      "        [10359.6201],\n",
      "        [49670.5703],\n",
      "        [10290.9326],\n",
      "        [ 5529.6841],\n",
      "        [18839.2109],\n",
      "        [46091.1953],\n",
      "        [ 6726.7314],\n",
      "        [37266.2227],\n",
      "        [ 6550.2129],\n",
      "        [ 9036.5283],\n",
      "        [ 8760.0537],\n",
      "        [ 9975.6016],\n",
      "        [23251.2344],\n",
      "        [12028.0439],\n",
      "        [35145.5703],\n",
      "        [11853.5645],\n",
      "        [26113.3281],\n",
      "        [13185.4854],\n",
      "        [49633.3477],\n",
      "        [12754.3193],\n",
      "        [23329.0215],\n",
      "        [13281.1387],\n",
      "        [13202.7510],\n",
      "        [16921.0703],\n",
      "        [38007.5820],\n",
      "        [37364.8555],\n",
      "        [11131.7139],\n",
      "        [50943.4414],\n",
      "        [ 3374.3032],\n",
      "        [ 5169.0615],\n",
      "        [ 3122.8323],\n",
      "        [12316.1631],\n",
      "        [ 5730.9487],\n",
      "        [19226.2793],\n",
      "        [ 7792.2544],\n",
      "        [ 5742.4570],\n",
      "        [ 4394.3530],\n",
      "        [ 6128.3462],\n",
      "        [21820.5625],\n",
      "        [ 5686.4443]])\n"
     ]
    }
   ],
   "source": [
    "for xb, yb in train_loader:\n",
    "    print(\"inputs:\", xb)\n",
    "    print(\"targets:\", yb)\n",
    "    break"
   ]
  },
  {
   "cell_type": "markdown",
   "metadata": {
    "id": "nwJmKt0DtXke"
   },
   "source": [
    "Let's save our work by committing to Jovian."
   ]
  },
  {
   "cell_type": "code",
   "execution_count": 93,
   "metadata": {
    "id": "teLpeF_7tXke"
   },
   "outputs": [
    {
     "data": {
      "application/javascript": [
       "window.require && require([\"base/js/namespace\"],function(Jupyter){Jupyter.notebook.save_checkpoint()})"
      ],
      "text/plain": [
       "<IPython.core.display.Javascript object>"
      ]
     },
     "metadata": {},
     "output_type": "display_data"
    },
    {
     "name": "stdout",
     "output_type": "stream",
     "text": [
      "[jovian] Attempting to save notebook..\u001b[0m\n",
      "[jovian] Updating notebook \"afifahluqman/02-insurance-linear-regression\" on https://jovian.ai\u001b[0m\n",
      "[jovian] Uploading notebook..\u001b[0m\n",
      "[jovian] Uploading additional files...\u001b[0m\n",
      "[jovian] Committed successfully! https://jovian.ai/afifahluqman/02-insurance-linear-regression\u001b[0m\n"
     ]
    },
    {
     "data": {
      "text/plain": [
       "'https://jovian.ai/afifahluqman/02-insurance-linear-regression'"
      ]
     },
     "execution_count": 93,
     "metadata": {},
     "output_type": "execute_result"
    }
   ],
   "source": [
    "jovian.commit(project=project_name, environment=None)"
   ]
  },
  {
   "cell_type": "markdown",
   "metadata": {
    "id": "2rE7ureOtXkf"
   },
   "source": [
    "## Step 3: Create a Linear Regression Model\n",
    "\n",
    "Our model itself is a fairly straightforward linear regression (we'll build more complex models in the next assignment). \n"
   ]
  },
  {
   "cell_type": "code",
   "execution_count": 94,
   "metadata": {
    "id": "ab8QSgaktXkf"
   },
   "outputs": [],
   "source": [
    "input_size = len(input_cols)\n",
    "output_size = len(output_cols)"
   ]
  },
  {
   "cell_type": "code",
   "execution_count": 95,
   "metadata": {},
   "outputs": [
    {
     "name": "stdout",
     "output_type": "stream",
     "text": [
      "6\n",
      "7\n"
     ]
    },
    {
     "data": {
      "text/plain": [
       "(None, None)"
      ]
     },
     "execution_count": 95,
     "metadata": {},
     "output_type": "execute_result"
    }
   ],
   "source": [
    "print(input_size), print(output_size)"
   ]
  },
  {
   "cell_type": "markdown",
   "metadata": {
    "id": "PdJFOr11tXkf"
   },
   "source": [
    "**Q: Complete the class definition below by filling out the constructor (`__init__`), `forward`, `training_step` and `validation_step` methods.**\n",
    "\n",
    "Hint: Think carefully about picking a good loss fuction (it's not cross entropy). Maybe try 2-3 of them and see which one works best. See https://pytorch.org/docs/stable/nn.functional.html#loss-functions"
   ]
  },
  {
   "cell_type": "code",
   "execution_count": 96,
   "metadata": {
    "id": "CX7HYqdUtXkg"
   },
   "outputs": [],
   "source": [
    "class InsuranceModel(nn.Module):\n",
    "    def __init__(self):\n",
    "        super().__init__()\n",
    "        self.linear = nn.Linear(input_size, output_size)                  # fill this (hint: use input_size & output_size defined above)\n",
    "        \n",
    "    def forward(self, xb):\n",
    "        out = self.linear(xb)                         # fill this\n",
    "        return out\n",
    "    \n",
    "    def training_step(self, batch):\n",
    "        inputs, targets = batch \n",
    "        # Generate predictions\n",
    "        out = self(inputs)          \n",
    "        # Calcuate loss\n",
    "        loss = F.l1_loss(out, targets)                           # fill this\n",
    "        return loss\n",
    "    \n",
    "    def validation_step(self, batch):\n",
    "        inputs, targets = batch\n",
    "        # Generate predictions\n",
    "        out = self(inputs)\n",
    "        # Calculate loss\n",
    "        loss = F.mse_loss(inputs, targets)                             # fill this    \n",
    "        return {'val_loss': loss.detach()}\n",
    "        \n",
    "    def validation_epoch_end(self, outputs):\n",
    "        batch_losses = [x['val_loss'] for x in outputs]\n",
    "        epoch_loss = torch.stack(batch_losses).mean()   # Combine losses\n",
    "        return {'val_loss': epoch_loss.item()}\n",
    "    \n",
    "    def epoch_end(self, epoch, result, num_epochs):\n",
    "        # Print result every 20th epoch\n",
    "        if (epoch+1) % 20 == 0 or epoch == num_epochs-1:\n",
    "            print(\"Epoch [{}], val_loss: {:.4f}\".format(epoch+1, result['val_loss']))"
   ]
  },
  {
   "cell_type": "markdown",
   "metadata": {
    "id": "W8RLPAXutXkg"
   },
   "source": [
    "Let us create a model using the `InsuranceModel` class. You may need to come back later and re-run the next cell to reinitialize the model, in case the loss becomes `nan` or `infinity`."
   ]
  },
  {
   "cell_type": "code",
   "execution_count": 97,
   "metadata": {
    "id": "MV-cKNcQtXki"
   },
   "outputs": [],
   "source": [
    "model = InsuranceModel()"
   ]
  },
  {
   "cell_type": "markdown",
   "metadata": {
    "id": "VLYqmzZ_tXki"
   },
   "source": [
    "Let's check out the weights and biases of the model using `model.parameters`."
   ]
  },
  {
   "cell_type": "code",
   "execution_count": 98,
   "metadata": {
    "id": "qvevNGeEtXki"
   },
   "outputs": [
    {
     "data": {
      "text/plain": [
       "[Parameter containing:\n",
       " tensor([[-0.1676,  0.2671, -0.2110, -0.2213, -0.1679, -0.2027],\n",
       "         [-0.3319,  0.3394, -0.2813,  0.2211, -0.4021,  0.1295],\n",
       "         [ 0.3256, -0.0065, -0.3907, -0.0562, -0.3768,  0.2760],\n",
       "         [-0.2479,  0.1877, -0.3898, -0.0600,  0.2396,  0.2712],\n",
       "         [-0.1765,  0.0367, -0.3887,  0.3682,  0.1655, -0.3159],\n",
       "         [ 0.0448, -0.4022, -0.1897,  0.2905,  0.1193,  0.1497],\n",
       "         [ 0.3458, -0.1965, -0.0008, -0.2224,  0.3532,  0.0884]],\n",
       "        requires_grad=True),\n",
       " Parameter containing:\n",
       " tensor([-0.0893,  0.3736,  0.2179,  0.3589, -0.0336, -0.0999,  0.0824],\n",
       "        requires_grad=True)]"
      ]
     },
     "execution_count": 98,
     "metadata": {},
     "output_type": "execute_result"
    }
   ],
   "source": [
    "list(model.parameters())"
   ]
  },
  {
   "cell_type": "markdown",
   "metadata": {
    "id": "VmiKxjgHtXko"
   },
   "source": [
    "One final commit before we train the model."
   ]
  },
  {
   "cell_type": "code",
   "execution_count": 99,
   "metadata": {
    "id": "kywi3iMitXkr"
   },
   "outputs": [
    {
     "data": {
      "application/javascript": [
       "window.require && require([\"base/js/namespace\"],function(Jupyter){Jupyter.notebook.save_checkpoint()})"
      ],
      "text/plain": [
       "<IPython.core.display.Javascript object>"
      ]
     },
     "metadata": {},
     "output_type": "display_data"
    },
    {
     "name": "stdout",
     "output_type": "stream",
     "text": [
      "[jovian] Attempting to save notebook..\u001b[0m\n",
      "[jovian] Updating notebook \"afifahluqman/02-insurance-linear-regression\" on https://jovian.ai\u001b[0m\n",
      "[jovian] Uploading notebook..\u001b[0m\n",
      "[jovian] Uploading additional files...\u001b[0m\n",
      "[jovian] Committed successfully! https://jovian.ai/afifahluqman/02-insurance-linear-regression\u001b[0m\n"
     ]
    },
    {
     "data": {
      "text/plain": [
       "'https://jovian.ai/afifahluqman/02-insurance-linear-regression'"
      ]
     },
     "execution_count": 99,
     "metadata": {},
     "output_type": "execute_result"
    }
   ],
   "source": [
    "jovian.commit(project=project_name, environment=None)"
   ]
  },
  {
   "cell_type": "markdown",
   "metadata": {
    "id": "Mukxm93AtXkx"
   },
   "source": [
    "## Step 4: Train the model to fit the data\n",
    "\n",
    "To train our model, we'll use the same `fit` function explained in the lecture. That's the benefit of defining a generic training loop - you can use it for any problem."
   ]
  },
  {
   "cell_type": "code",
   "execution_count": 100,
   "metadata": {
    "id": "EHdEyf1dtXk8"
   },
   "outputs": [],
   "source": [
    "def evaluate(model, val_loader):\n",
    "    outputs = [model.validation_step(batch) for batch in val_loader]\n",
    "    return model.validation_epoch_end(outputs)\n",
    "\n",
    "def fit(epochs, lr, model, train_loader, val_loader, opt_func=torch.optim.SGD):\n",
    "    history = []\n",
    "    optimizer = opt_func(model.parameters(), lr)\n",
    "    for epoch in range(epochs):\n",
    "        # Training Phase \n",
    "        for batch in train_loader:\n",
    "            loss = model.training_step(batch)\n",
    "            loss.backward()\n",
    "            optimizer.step()\n",
    "            optimizer.zero_grad()\n",
    "        # Validation phase\n",
    "        result = evaluate(model, val_loader)\n",
    "        model.epoch_end(epoch, result, epochs)\n",
    "        history.append(result)\n",
    "    return history"
   ]
  },
  {
   "cell_type": "markdown",
   "metadata": {
    "id": "y3DwI2KjtXk9"
   },
   "source": [
    "**Q: Use the `evaluate` function to calculate the loss on the validation set before training.**"
   ]
  },
  {
   "cell_type": "code",
   "execution_count": 101,
   "metadata": {
    "id": "I6xZWEoGtXk-"
   },
   "outputs": [
    {
     "name": "stdout",
     "output_type": "stream",
     "text": [
      "{'val_loss': 233543296.0}\n"
     ]
    },
    {
     "name": "stderr",
     "output_type": "stream",
     "text": [
      "<ipython-input-96-2425a3349f9e>:23: UserWarning: Using a target size (torch.Size([70, 1])) that is different to the input size (torch.Size([70, 6])). This will likely lead to incorrect results due to broadcasting. Please ensure they have the same size.\n",
      "  loss = F.mse_loss(inputs, targets)                             # fill this\n",
      "<ipython-input-96-2425a3349f9e>:23: UserWarning: Using a target size (torch.Size([12, 1])) that is different to the input size (torch.Size([12, 6])). This will likely lead to incorrect results due to broadcasting. Please ensure they have the same size.\n",
      "  loss = F.mse_loss(inputs, targets)                             # fill this\n"
     ]
    }
   ],
   "source": [
    "result = evaluate(model,val_loader) # Use the the evaluate function\n",
    "print(result)"
   ]
  },
  {
   "cell_type": "markdown",
   "metadata": {
    "id": "K311f7oFtXk_"
   },
   "source": [
    "\n",
    "We are now ready to train the model. You may need to run the training loop many times, for different number of epochs and with different learning rates, to get a good result. Also, if your loss becomes too large (or `nan`), you may have to re-initialize the model by running the cell `model = InsuranceModel()`. Experiment with this for a while, and try to get to as low a loss as possible."
   ]
  },
  {
   "cell_type": "markdown",
   "metadata": {
    "id": "NjbOtxebtXlA"
   },
   "source": [
    "**Q: Train the model 4-5 times with different learning rates & for different number of epochs.**\n",
    "\n",
    "Hint: Vary learning rates by orders of 10 (e.g. `1e-2`, `1e-3`, `1e-4`, `1e-5`, `1e-6`) to figure out what works."
   ]
  },
  {
   "cell_type": "code",
   "execution_count": 104,
   "metadata": {
    "id": "8NJdAuTutXlC"
   },
   "outputs": [
    {
     "name": "stderr",
     "output_type": "stream",
     "text": [
      "<ipython-input-96-2425a3349f9e>:15: UserWarning: Using a target size (torch.Size([70, 1])) that is different to the input size (torch.Size([70, 7])). This will likely lead to incorrect results due to broadcasting. Please ensure they have the same size.\n",
      "  loss = F.l1_loss(out, targets)                           # fill this\n",
      "<ipython-input-96-2425a3349f9e>:15: UserWarning: Using a target size (torch.Size([69, 1])) that is different to the input size (torch.Size([69, 7])). This will likely lead to incorrect results due to broadcasting. Please ensure they have the same size.\n",
      "  loss = F.l1_loss(out, targets)                           # fill this\n",
      "<ipython-input-96-2425a3349f9e>:23: UserWarning: Using a target size (torch.Size([70, 1])) that is different to the input size (torch.Size([70, 6])). This will likely lead to incorrect results due to broadcasting. Please ensure they have the same size.\n",
      "  loss = F.mse_loss(inputs, targets)                             # fill this\n",
      "<ipython-input-96-2425a3349f9e>:23: UserWarning: Using a target size (torch.Size([12, 1])) that is different to the input size (torch.Size([12, 6])). This will likely lead to incorrect results due to broadcasting. Please ensure they have the same size.\n",
      "  loss = F.mse_loss(inputs, targets)                             # fill this\n"
     ]
    },
    {
     "name": "stdout",
     "output_type": "stream",
     "text": [
      "Epoch [20], val_loss: 233543296.0000\n",
      "Epoch [40], val_loss: 233543296.0000\n",
      "Epoch [60], val_loss: 233543296.0000\n",
      "Epoch [80], val_loss: 233543296.0000\n",
      "Epoch [100], val_loss: 233543296.0000\n",
      "Epoch [120], val_loss: 233543296.0000\n",
      "Epoch [140], val_loss: 233543296.0000\n",
      "Epoch [160], val_loss: 233543296.0000\n",
      "Epoch [180], val_loss: 233543296.0000\n",
      "Epoch [200], val_loss: 233543296.0000\n",
      "Epoch [220], val_loss: 233543296.0000\n",
      "Epoch [240], val_loss: 233543296.0000\n",
      "Epoch [260], val_loss: 233543296.0000\n",
      "Epoch [280], val_loss: 233543296.0000\n",
      "Epoch [300], val_loss: 233543296.0000\n",
      "Epoch [320], val_loss: 233543296.0000\n",
      "Epoch [340], val_loss: 233543296.0000\n",
      "Epoch [360], val_loss: 233543296.0000\n",
      "Epoch [380], val_loss: 233543296.0000\n",
      "Epoch [400], val_loss: 233543296.0000\n",
      "Epoch [420], val_loss: 233543296.0000\n",
      "Epoch [440], val_loss: 233543296.0000\n",
      "Epoch [460], val_loss: 233543296.0000\n",
      "Epoch [480], val_loss: 233543296.0000\n",
      "Epoch [500], val_loss: 233543296.0000\n",
      "Epoch [520], val_loss: 233543296.0000\n",
      "Epoch [540], val_loss: 233543296.0000\n",
      "Epoch [560], val_loss: 233543296.0000\n",
      "Epoch [580], val_loss: 233543296.0000\n",
      "Epoch [600], val_loss: 233543296.0000\n",
      "Epoch [620], val_loss: 233543296.0000\n",
      "Epoch [640], val_loss: 233543296.0000\n",
      "Epoch [660], val_loss: 233543296.0000\n",
      "Epoch [680], val_loss: 233543296.0000\n",
      "Epoch [700], val_loss: 233543296.0000\n",
      "Epoch [720], val_loss: 233543296.0000\n",
      "Epoch [740], val_loss: 233543296.0000\n",
      "Epoch [760], val_loss: 233543296.0000\n",
      "Epoch [780], val_loss: 233543296.0000\n",
      "Epoch [800], val_loss: 233543296.0000\n",
      "Epoch [820], val_loss: 233543296.0000\n",
      "Epoch [840], val_loss: 233543296.0000\n",
      "Epoch [860], val_loss: 233543296.0000\n",
      "Epoch [880], val_loss: 233543296.0000\n",
      "Epoch [900], val_loss: 233543296.0000\n",
      "Epoch [920], val_loss: 233543296.0000\n",
      "Epoch [940], val_loss: 233543296.0000\n",
      "Epoch [960], val_loss: 233543296.0000\n",
      "Epoch [980], val_loss: 233543296.0000\n",
      "Epoch [1000], val_loss: 233543296.0000\n"
     ]
    }
   ],
   "source": [
    "epochs = 1000\n",
    "lr = 1e-4\n",
    "history1 = fit(epochs, lr, model, train_loader, val_loader)"
   ]
  },
  {
   "cell_type": "code",
   "execution_count": 107,
   "metadata": {
    "id": "uWT46OFntXlD"
   },
   "outputs": [
    {
     "name": "stderr",
     "output_type": "stream",
     "text": [
      "<ipython-input-96-2425a3349f9e>:15: UserWarning: Using a target size (torch.Size([70, 1])) that is different to the input size (torch.Size([70, 7])). This will likely lead to incorrect results due to broadcasting. Please ensure they have the same size.\n",
      "  loss = F.l1_loss(out, targets)                           # fill this\n",
      "<ipython-input-96-2425a3349f9e>:15: UserWarning: Using a target size (torch.Size([69, 1])) that is different to the input size (torch.Size([69, 7])). This will likely lead to incorrect results due to broadcasting. Please ensure they have the same size.\n",
      "  loss = F.l1_loss(out, targets)                           # fill this\n",
      "<ipython-input-96-2425a3349f9e>:23: UserWarning: Using a target size (torch.Size([70, 1])) that is different to the input size (torch.Size([70, 6])). This will likely lead to incorrect results due to broadcasting. Please ensure they have the same size.\n",
      "  loss = F.mse_loss(inputs, targets)                             # fill this\n",
      "<ipython-input-96-2425a3349f9e>:23: UserWarning: Using a target size (torch.Size([12, 1])) that is different to the input size (torch.Size([12, 6])). This will likely lead to incorrect results due to broadcasting. Please ensure they have the same size.\n",
      "  loss = F.mse_loss(inputs, targets)                             # fill this\n"
     ]
    },
    {
     "name": "stdout",
     "output_type": "stream",
     "text": [
      "Epoch [20], val_loss: 233543296.0000\n",
      "Epoch [40], val_loss: 233543296.0000\n",
      "Epoch [60], val_loss: 233543296.0000\n",
      "Epoch [80], val_loss: 233543296.0000\n",
      "Epoch [100], val_loss: 233543296.0000\n",
      "Epoch [120], val_loss: 233543296.0000\n",
      "Epoch [140], val_loss: 233543296.0000\n",
      "Epoch [160], val_loss: 233543296.0000\n",
      "Epoch [180], val_loss: 233543296.0000\n",
      "Epoch [200], val_loss: 233543296.0000\n",
      "Epoch [220], val_loss: 233543296.0000\n",
      "Epoch [240], val_loss: 233543296.0000\n",
      "Epoch [260], val_loss: 233543296.0000\n",
      "Epoch [280], val_loss: 233543296.0000\n",
      "Epoch [300], val_loss: 233543296.0000\n",
      "Epoch [320], val_loss: 233543296.0000\n",
      "Epoch [340], val_loss: 233543296.0000\n",
      "Epoch [360], val_loss: 233543296.0000\n",
      "Epoch [380], val_loss: 233543296.0000\n",
      "Epoch [400], val_loss: 233543296.0000\n",
      "Epoch [420], val_loss: 233543296.0000\n",
      "Epoch [440], val_loss: 233543296.0000\n",
      "Epoch [460], val_loss: 233543296.0000\n",
      "Epoch [480], val_loss: 233543296.0000\n",
      "Epoch [500], val_loss: 233543296.0000\n",
      "Epoch [520], val_loss: 233543296.0000\n",
      "Epoch [540], val_loss: 233543296.0000\n",
      "Epoch [560], val_loss: 233543296.0000\n",
      "Epoch [580], val_loss: 233543296.0000\n",
      "Epoch [600], val_loss: 233543296.0000\n",
      "Epoch [620], val_loss: 233543296.0000\n",
      "Epoch [640], val_loss: 233543296.0000\n",
      "Epoch [660], val_loss: 233543296.0000\n",
      "Epoch [680], val_loss: 233543296.0000\n",
      "Epoch [700], val_loss: 233543296.0000\n",
      "Epoch [720], val_loss: 233543296.0000\n",
      "Epoch [740], val_loss: 233543296.0000\n",
      "Epoch [760], val_loss: 233543296.0000\n",
      "Epoch [780], val_loss: 233543296.0000\n",
      "Epoch [800], val_loss: 233543296.0000\n",
      "Epoch [820], val_loss: 233543296.0000\n",
      "Epoch [840], val_loss: 233543296.0000\n",
      "Epoch [860], val_loss: 233543296.0000\n",
      "Epoch [880], val_loss: 233543296.0000\n",
      "Epoch [900], val_loss: 233543296.0000\n",
      "Epoch [920], val_loss: 233543296.0000\n",
      "Epoch [940], val_loss: 233543296.0000\n",
      "Epoch [960], val_loss: 233543296.0000\n",
      "Epoch [980], val_loss: 233543296.0000\n",
      "Epoch [1000], val_loss: 233543296.0000\n"
     ]
    }
   ],
   "source": [
    "epochs = 1000\n",
    "lr = 1e-3\n",
    "history2 = fit(epochs, lr, model, train_loader, val_loader)"
   ]
  },
  {
   "cell_type": "code",
   "execution_count": 106,
   "metadata": {
    "id": "KFt2tooWtXlD"
   },
   "outputs": [
    {
     "name": "stderr",
     "output_type": "stream",
     "text": [
      "<ipython-input-96-2425a3349f9e>:15: UserWarning: Using a target size (torch.Size([70, 1])) that is different to the input size (torch.Size([70, 7])). This will likely lead to incorrect results due to broadcasting. Please ensure they have the same size.\n",
      "  loss = F.l1_loss(out, targets)                           # fill this\n",
      "<ipython-input-96-2425a3349f9e>:15: UserWarning: Using a target size (torch.Size([69, 1])) that is different to the input size (torch.Size([69, 7])). This will likely lead to incorrect results due to broadcasting. Please ensure they have the same size.\n",
      "  loss = F.l1_loss(out, targets)                           # fill this\n",
      "<ipython-input-96-2425a3349f9e>:23: UserWarning: Using a target size (torch.Size([70, 1])) that is different to the input size (torch.Size([70, 6])). This will likely lead to incorrect results due to broadcasting. Please ensure they have the same size.\n",
      "  loss = F.mse_loss(inputs, targets)                             # fill this\n",
      "<ipython-input-96-2425a3349f9e>:23: UserWarning: Using a target size (torch.Size([12, 1])) that is different to the input size (torch.Size([12, 6])). This will likely lead to incorrect results due to broadcasting. Please ensure they have the same size.\n",
      "  loss = F.mse_loss(inputs, targets)                             # fill this\n"
     ]
    },
    {
     "name": "stdout",
     "output_type": "stream",
     "text": [
      "Epoch [20], val_loss: 233543296.0000\n",
      "Epoch [40], val_loss: 233543296.0000\n",
      "Epoch [60], val_loss: 233543296.0000\n",
      "Epoch [80], val_loss: 233543296.0000\n",
      "Epoch [100], val_loss: 233543296.0000\n",
      "Epoch [120], val_loss: 233543296.0000\n",
      "Epoch [140], val_loss: 233543296.0000\n",
      "Epoch [160], val_loss: 233543296.0000\n",
      "Epoch [180], val_loss: 233543296.0000\n",
      "Epoch [200], val_loss: 233543296.0000\n",
      "Epoch [220], val_loss: 233543296.0000\n",
      "Epoch [240], val_loss: 233543296.0000\n",
      "Epoch [260], val_loss: 233543296.0000\n",
      "Epoch [280], val_loss: 233543296.0000\n",
      "Epoch [300], val_loss: 233543296.0000\n",
      "Epoch [320], val_loss: 233543296.0000\n",
      "Epoch [340], val_loss: 233543296.0000\n",
      "Epoch [360], val_loss: 233543296.0000\n",
      "Epoch [380], val_loss: 233543296.0000\n",
      "Epoch [400], val_loss: 233543296.0000\n",
      "Epoch [420], val_loss: 233543296.0000\n",
      "Epoch [440], val_loss: 233543296.0000\n",
      "Epoch [460], val_loss: 233543296.0000\n",
      "Epoch [480], val_loss: 233543296.0000\n",
      "Epoch [500], val_loss: 233543296.0000\n",
      "Epoch [520], val_loss: 233543296.0000\n",
      "Epoch [540], val_loss: 233543296.0000\n",
      "Epoch [560], val_loss: 233543296.0000\n",
      "Epoch [580], val_loss: 233543296.0000\n",
      "Epoch [600], val_loss: 233543296.0000\n",
      "Epoch [620], val_loss: 233543296.0000\n",
      "Epoch [640], val_loss: 233543296.0000\n",
      "Epoch [660], val_loss: 233543296.0000\n",
      "Epoch [680], val_loss: 233543296.0000\n",
      "Epoch [700], val_loss: 233543296.0000\n",
      "Epoch [720], val_loss: 233543296.0000\n",
      "Epoch [740], val_loss: 233543296.0000\n",
      "Epoch [760], val_loss: 233543296.0000\n",
      "Epoch [780], val_loss: 233543296.0000\n",
      "Epoch [800], val_loss: 233543296.0000\n",
      "Epoch [820], val_loss: 233543296.0000\n",
      "Epoch [840], val_loss: 233543296.0000\n",
      "Epoch [860], val_loss: 233543296.0000\n",
      "Epoch [880], val_loss: 233543296.0000\n",
      "Epoch [900], val_loss: 233543296.0000\n",
      "Epoch [920], val_loss: 233543296.0000\n",
      "Epoch [940], val_loss: 233543296.0000\n",
      "Epoch [960], val_loss: 233543296.0000\n",
      "Epoch [980], val_loss: 233543296.0000\n",
      "Epoch [1000], val_loss: 233543296.0000\n"
     ]
    }
   ],
   "source": [
    "epochs = 1000\n",
    "lr = 1e-2\n",
    "history3 = fit(epochs, lr, model, train_loader, val_loader)"
   ]
  },
  {
   "cell_type": "code",
   "execution_count": 108,
   "metadata": {
    "id": "yAkmvx3dtXlF"
   },
   "outputs": [
    {
     "name": "stderr",
     "output_type": "stream",
     "text": [
      "<ipython-input-96-2425a3349f9e>:15: UserWarning: Using a target size (torch.Size([70, 1])) that is different to the input size (torch.Size([70, 7])). This will likely lead to incorrect results due to broadcasting. Please ensure they have the same size.\n",
      "  loss = F.l1_loss(out, targets)                           # fill this\n",
      "<ipython-input-96-2425a3349f9e>:15: UserWarning: Using a target size (torch.Size([69, 1])) that is different to the input size (torch.Size([69, 7])). This will likely lead to incorrect results due to broadcasting. Please ensure they have the same size.\n",
      "  loss = F.l1_loss(out, targets)                           # fill this\n",
      "<ipython-input-96-2425a3349f9e>:23: UserWarning: Using a target size (torch.Size([70, 1])) that is different to the input size (torch.Size([70, 6])). This will likely lead to incorrect results due to broadcasting. Please ensure they have the same size.\n",
      "  loss = F.mse_loss(inputs, targets)                             # fill this\n",
      "<ipython-input-96-2425a3349f9e>:23: UserWarning: Using a target size (torch.Size([12, 1])) that is different to the input size (torch.Size([12, 6])). This will likely lead to incorrect results due to broadcasting. Please ensure they have the same size.\n",
      "  loss = F.mse_loss(inputs, targets)                             # fill this\n"
     ]
    },
    {
     "name": "stdout",
     "output_type": "stream",
     "text": [
      "Epoch [20], val_loss: 233543296.0000\n",
      "Epoch [40], val_loss: 233543296.0000\n",
      "Epoch [60], val_loss: 233543296.0000\n",
      "Epoch [80], val_loss: 233543296.0000\n",
      "Epoch [100], val_loss: 233543296.0000\n",
      "Epoch [120], val_loss: 233543296.0000\n",
      "Epoch [140], val_loss: 233543296.0000\n",
      "Epoch [160], val_loss: 233543296.0000\n",
      "Epoch [180], val_loss: 233543296.0000\n",
      "Epoch [200], val_loss: 233543296.0000\n",
      "Epoch [220], val_loss: 233543296.0000\n",
      "Epoch [240], val_loss: 233543296.0000\n",
      "Epoch [260], val_loss: 233543296.0000\n",
      "Epoch [280], val_loss: 233543296.0000\n",
      "Epoch [300], val_loss: 233543296.0000\n",
      "Epoch [320], val_loss: 233543296.0000\n",
      "Epoch [340], val_loss: 233543296.0000\n",
      "Epoch [360], val_loss: 233543296.0000\n",
      "Epoch [380], val_loss: 233543296.0000\n",
      "Epoch [400], val_loss: 233543296.0000\n",
      "Epoch [420], val_loss: 233543296.0000\n",
      "Epoch [440], val_loss: 233543296.0000\n",
      "Epoch [460], val_loss: 233543296.0000\n",
      "Epoch [480], val_loss: 233543296.0000\n",
      "Epoch [500], val_loss: 233543296.0000\n",
      "Epoch [520], val_loss: 233543296.0000\n",
      "Epoch [540], val_loss: 233543296.0000\n",
      "Epoch [560], val_loss: 233543296.0000\n",
      "Epoch [580], val_loss: 233543296.0000\n",
      "Epoch [600], val_loss: 233543296.0000\n",
      "Epoch [620], val_loss: 233543296.0000\n",
      "Epoch [640], val_loss: 233543296.0000\n",
      "Epoch [660], val_loss: 233543296.0000\n",
      "Epoch [680], val_loss: 233543296.0000\n",
      "Epoch [700], val_loss: 233543296.0000\n",
      "Epoch [720], val_loss: 233543296.0000\n",
      "Epoch [740], val_loss: 233543296.0000\n",
      "Epoch [760], val_loss: 233543296.0000\n",
      "Epoch [780], val_loss: 233543296.0000\n",
      "Epoch [800], val_loss: 233543296.0000\n",
      "Epoch [820], val_loss: 233543296.0000\n",
      "Epoch [840], val_loss: 233543296.0000\n",
      "Epoch [860], val_loss: 233543296.0000\n",
      "Epoch [880], val_loss: 233543296.0000\n",
      "Epoch [900], val_loss: 233543296.0000\n",
      "Epoch [920], val_loss: 233543296.0000\n",
      "Epoch [940], val_loss: 233543296.0000\n",
      "Epoch [960], val_loss: 233543296.0000\n",
      "Epoch [980], val_loss: 233543296.0000\n",
      "Epoch [1000], val_loss: 233543296.0000\n"
     ]
    }
   ],
   "source": [
    "epochs = 1000\n",
    "lr = 6e-2\n",
    "history4 = fit(epochs, lr, model, train_loader, val_loader)"
   ]
  },
  {
   "cell_type": "code",
   "execution_count": 109,
   "metadata": {
    "id": "6jgvuvcAtXlG"
   },
   "outputs": [
    {
     "name": "stderr",
     "output_type": "stream",
     "text": [
      "<ipython-input-96-2425a3349f9e>:15: UserWarning: Using a target size (torch.Size([70, 1])) that is different to the input size (torch.Size([70, 7])). This will likely lead to incorrect results due to broadcasting. Please ensure they have the same size.\n",
      "  loss = F.l1_loss(out, targets)                           # fill this\n",
      "<ipython-input-96-2425a3349f9e>:15: UserWarning: Using a target size (torch.Size([69, 1])) that is different to the input size (torch.Size([69, 7])). This will likely lead to incorrect results due to broadcasting. Please ensure they have the same size.\n",
      "  loss = F.l1_loss(out, targets)                           # fill this\n",
      "<ipython-input-96-2425a3349f9e>:23: UserWarning: Using a target size (torch.Size([70, 1])) that is different to the input size (torch.Size([70, 6])). This will likely lead to incorrect results due to broadcasting. Please ensure they have the same size.\n",
      "  loss = F.mse_loss(inputs, targets)                             # fill this\n",
      "<ipython-input-96-2425a3349f9e>:23: UserWarning: Using a target size (torch.Size([12, 1])) that is different to the input size (torch.Size([12, 6])). This will likely lead to incorrect results due to broadcasting. Please ensure they have the same size.\n",
      "  loss = F.mse_loss(inputs, targets)                             # fill this\n"
     ]
    },
    {
     "name": "stdout",
     "output_type": "stream",
     "text": [
      "Epoch [20], val_loss: 233543296.0000\n",
      "Epoch [40], val_loss: 233543296.0000\n",
      "Epoch [60], val_loss: 233543296.0000\n",
      "Epoch [80], val_loss: 233543296.0000\n",
      "Epoch [100], val_loss: 233543296.0000\n",
      "Epoch [120], val_loss: 233543296.0000\n",
      "Epoch [140], val_loss: 233543296.0000\n",
      "Epoch [160], val_loss: 233543296.0000\n",
      "Epoch [180], val_loss: 233543296.0000\n",
      "Epoch [200], val_loss: 233543296.0000\n",
      "Epoch [220], val_loss: 233543296.0000\n",
      "Epoch [240], val_loss: 233543296.0000\n",
      "Epoch [260], val_loss: 233543296.0000\n",
      "Epoch [280], val_loss: 233543296.0000\n",
      "Epoch [300], val_loss: 233543296.0000\n",
      "Epoch [320], val_loss: 233543296.0000\n",
      "Epoch [340], val_loss: 233543296.0000\n",
      "Epoch [360], val_loss: 233543296.0000\n",
      "Epoch [380], val_loss: 233543296.0000\n",
      "Epoch [400], val_loss: 233543296.0000\n",
      "Epoch [420], val_loss: 233543296.0000\n",
      "Epoch [440], val_loss: 233543296.0000\n",
      "Epoch [460], val_loss: 233543296.0000\n",
      "Epoch [480], val_loss: 233543296.0000\n",
      "Epoch [500], val_loss: 233543296.0000\n",
      "Epoch [520], val_loss: 233543296.0000\n",
      "Epoch [540], val_loss: 233543296.0000\n",
      "Epoch [560], val_loss: 233543296.0000\n",
      "Epoch [580], val_loss: 233543296.0000\n",
      "Epoch [600], val_loss: 233543296.0000\n",
      "Epoch [620], val_loss: 233543296.0000\n",
      "Epoch [640], val_loss: 233543296.0000\n",
      "Epoch [660], val_loss: 233543296.0000\n",
      "Epoch [680], val_loss: 233543296.0000\n",
      "Epoch [700], val_loss: 233543296.0000\n",
      "Epoch [720], val_loss: 233543296.0000\n",
      "Epoch [740], val_loss: 233543296.0000\n",
      "Epoch [760], val_loss: 233543296.0000\n",
      "Epoch [780], val_loss: 233543296.0000\n",
      "Epoch [800], val_loss: 233543296.0000\n",
      "Epoch [820], val_loss: 233543296.0000\n",
      "Epoch [840], val_loss: 233543296.0000\n",
      "Epoch [860], val_loss: 233543296.0000\n",
      "Epoch [880], val_loss: 233543296.0000\n",
      "Epoch [900], val_loss: 233543296.0000\n",
      "Epoch [920], val_loss: 233543296.0000\n",
      "Epoch [940], val_loss: 233543296.0000\n",
      "Epoch [960], val_loss: 233543296.0000\n",
      "Epoch [980], val_loss: 233543296.0000\n",
      "Epoch [1000], val_loss: 233543296.0000\n"
     ]
    }
   ],
   "source": [
    "epochs = 1000\n",
    "lr = 5e-4\n",
    "history5 = fit(epochs, lr, model, train_loader, val_loader)"
   ]
  },
  {
   "cell_type": "markdown",
   "metadata": {
    "id": "popjj4vztXlH"
   },
   "source": [
    "**Q: What is the final validation loss of your model?**"
   ]
  },
  {
   "cell_type": "code",
   "execution_count": 110,
   "metadata": {
    "id": "piR8oCjGtXlI"
   },
   "outputs": [],
   "source": [
    "val_loss = 233543296.0000"
   ]
  },
  {
   "cell_type": "markdown",
   "metadata": {
    "id": "g85ie4_8tXlJ"
   },
   "source": [
    "Let's log the final validation loss to Jovian and commit the notebook"
   ]
  },
  {
   "cell_type": "code",
   "execution_count": 111,
   "metadata": {
    "id": "jE4kQFAKtXlJ"
   },
   "outputs": [
    {
     "name": "stdout",
     "output_type": "stream",
     "text": [
      "[jovian] Metrics logged.\u001b[0m\n"
     ]
    }
   ],
   "source": [
    "jovian.log_metrics(val_loss=val_loss)"
   ]
  },
  {
   "cell_type": "code",
   "execution_count": 112,
   "metadata": {
    "id": "WZC0oSRPtXlK"
   },
   "outputs": [
    {
     "data": {
      "application/javascript": [
       "window.require && require([\"base/js/namespace\"],function(Jupyter){Jupyter.notebook.save_checkpoint()})"
      ],
      "text/plain": [
       "<IPython.core.display.Javascript object>"
      ]
     },
     "metadata": {},
     "output_type": "display_data"
    },
    {
     "name": "stdout",
     "output_type": "stream",
     "text": [
      "[jovian] Attempting to save notebook..\u001b[0m\n",
      "[jovian] Updating notebook \"afifahluqman/02-insurance-linear-regression\" on https://jovian.ai\u001b[0m\n",
      "[jovian] Uploading notebook..\u001b[0m\n",
      "[jovian] Uploading additional files...\u001b[0m\n",
      "[jovian] Attaching records (metrics, hyperparameters, dataset etc.)\u001b[0m\n",
      "[jovian] Committed successfully! https://jovian.ai/afifahluqman/02-insurance-linear-regression\u001b[0m\n"
     ]
    },
    {
     "data": {
      "text/plain": [
       "'https://jovian.ai/afifahluqman/02-insurance-linear-regression'"
      ]
     },
     "execution_count": 112,
     "metadata": {},
     "output_type": "execute_result"
    }
   ],
   "source": [
    "jovian.commit(project=project_name, environment=None)"
   ]
  },
  {
   "cell_type": "markdown",
   "metadata": {
    "id": "81xsYiB6tXlK"
   },
   "source": [
    "Now scroll back up, re-initialize the model, and try different set of values for batch size, number of epochs, learning rate etc. Commit each experiment and use the \"Compare\" and \"View Diff\" options on Jovian to compare the different results."
   ]
  },
  {
   "cell_type": "markdown",
   "metadata": {
    "id": "9JkQ7E9BtXlL"
   },
   "source": [
    "## Step 5: Make predictions using the trained model\n",
    "\n",
    "**Q: Complete the following function definition to make predictions on a single input**"
   ]
  },
  {
   "cell_type": "code",
   "execution_count": 114,
   "metadata": {
    "id": "ABAXu7hZtXlR"
   },
   "outputs": [],
   "source": [
    "def predict_single(input, target, model):\n",
    "    inputs = input.unsqueeze(0)\n",
    "    predictions = model(inputs)         # fill this\n",
    "    prediction = predictions[0].detach()\n",
    "    print(\"Input:\", input)\n",
    "    print(\"Target:\", target)\n",
    "    print(\"Prediction:\", prediction)"
   ]
  },
  {
   "cell_type": "code",
   "execution_count": 115,
   "metadata": {
    "id": "GQqTtpTbtXlS"
   },
   "outputs": [
    {
     "name": "stdout",
     "output_type": "stream",
     "text": [
      "Input: tensor([32.0000,  1.0000, 28.6824,  4.0000,  1.0000,  1.0000])\n",
      "Target: tensor([22546.1035])\n",
      "Prediction: tensor([6385.4844, 6386.8652, 6385.2344, 6385.8418, 6387.9180, 6386.9062,\n",
      "        6385.1528])\n"
     ]
    }
   ],
   "source": [
    "input, target = val_ds[0]\n",
    "predict_single(input, target, model)"
   ]
  },
  {
   "cell_type": "code",
   "execution_count": 116,
   "metadata": {
    "id": "lpdBRmMxtXlS"
   },
   "outputs": [
    {
     "name": "stdout",
     "output_type": "stream",
     "text": [
      "Input: tensor([27.0000,  1.0000, 26.5506,  0.0000,  0.0000,  0.0000])\n",
      "Target: tensor([3224.3491])\n",
      "Prediction: tensor([5066.2075, 5065.9639, 5065.0776, 5065.2256, 5066.1123, 5065.0825,\n",
      "        5065.1313])\n"
     ]
    }
   ],
   "source": [
    "input, target = val_ds[10]\n",
    "predict_single(input, target, model)"
   ]
  },
  {
   "cell_type": "code",
   "execution_count": 117,
   "metadata": {
    "id": "-30LUI9_tXlT"
   },
   "outputs": [
    {
     "name": "stdout",
     "output_type": "stream",
     "text": [
      "Input: tensor([18.0000,  1.0000, 26.7036,  2.0000,  0.0000,  2.0000])\n",
      "Target: tensor([2419.2024])\n",
      "Prediction: tensor([2667.0959, 2668.3887, 2667.2913, 2667.4712, 2667.8635, 2667.5586,\n",
      "        2666.5293])\n"
     ]
    }
   ],
   "source": [
    "input, target = val_ds[23]\n",
    "predict_single(input, target, model)"
   ]
  },
  {
   "cell_type": "markdown",
   "metadata": {
    "id": "OLf_-IDgtXlT"
   },
   "source": [
    "Are you happy with your model's predictions? Try to improve them further."
   ]
  },
  {
   "cell_type": "markdown",
   "metadata": {
    "id": "_ZEijOBItXlU"
   },
   "source": [
    "## (Optional) Step 6: Try another dataset & blog about it\n",
    "\n",
    "While this last step is optional for the submission of your assignment, we highly recommend that you do it. Try to replicate this notebook for a different linear regression or logistic regression problem. This will help solidify your understanding, and give you a chance to differentiate the generic patterns in machine learning from problem-specific details.You can use one of these starer notebooks (just change the dataset):\n",
    "\n",
    "- Linear regression (minimal): https://jovian.ai/aakashns/housing-linear-minimal\n",
    "- Logistic regression (minimal): https://jovian.ai/aakashns/mnist-logistic-minimal\n",
    "\n",
    "Here are some sources to find good datasets:\n",
    "\n",
    "- https://lionbridge.ai/datasets/10-open-datasets-for-linear-regression/\n",
    "- https://www.kaggle.com/rtatman/datasets-for-regression-analysis\n",
    "- https://archive.ics.uci.edu/ml/datasets.php?format=&task=reg&att=&area=&numAtt=&numIns=&type=&sort=nameUp&view=table\n",
    "- https://people.sc.fsu.edu/~jburkardt/datasets/regression/regression.html\n",
    "- https://archive.ics.uci.edu/ml/datasets/wine+quality\n",
    "- https://pytorch.org/docs/stable/torchvision/datasets.html\n",
    "\n",
    "We also recommend that you write a blog about your approach to the problem. Here is a suggested structure for your post (feel free to experiment with it):\n",
    "\n",
    "- Interesting title & subtitle\n",
    "- Overview of what the blog covers (which dataset, linear regression or logistic regression, intro to PyTorch)\n",
    "- Downloading & exploring the data\n",
    "- Preparing the data for training\n",
    "- Creating a model using PyTorch\n",
    "- Training the model to fit the data\n",
    "- Your thoughts on how to experiment with different hyperparmeters to reduce loss\n",
    "- Making predictions using the model\n",
    "\n",
    "As with the previous assignment, you can [embed Juptyer notebook cells & outputs from Jovian](https://medium.com/jovianml/share-and-embed-jupyter-notebooks-online-with-jovian-ml-df709a03064e) into your blog. \n",
    "\n",
    "Don't forget to share your work on the forum: https://jovian.ai/forum/t/linear-regression-and-logistic-regression-notebooks-and-blog-posts/14039"
   ]
  },
  {
   "cell_type": "code",
   "execution_count": 118,
   "metadata": {
    "id": "X-blGDA7tXlW",
    "outputId": "6bc201a0-54ab-4247-8c47-d1fb7274cf66"
   },
   "outputs": [
    {
     "data": {
      "application/javascript": [
       "window.require && require([\"base/js/namespace\"],function(Jupyter){Jupyter.notebook.save_checkpoint()})"
      ],
      "text/plain": [
       "<IPython.core.display.Javascript object>"
      ]
     },
     "metadata": {},
     "output_type": "display_data"
    },
    {
     "name": "stdout",
     "output_type": "stream",
     "text": [
      "[jovian] Attempting to save notebook..\u001b[0m\n",
      "[jovian] Updating notebook \"afifahluqman/02-insurance-linear-regression\" on https://jovian.ai\u001b[0m\n",
      "[jovian] Uploading notebook..\u001b[0m\n",
      "[jovian] Uploading additional files...\u001b[0m\n",
      "[jovian] Attaching records (metrics, hyperparameters, dataset etc.)\u001b[0m\n",
      "[jovian] Committed successfully! https://jovian.ai/afifahluqman/02-insurance-linear-regression\u001b[0m\n"
     ]
    },
    {
     "data": {
      "application/javascript": [
       "window.require && require([\"base/js/namespace\"],function(Jupyter){Jupyter.notebook.save_checkpoint()})"
      ],
      "text/plain": [
       "<IPython.core.display.Javascript object>"
      ]
     },
     "metadata": {},
     "output_type": "display_data"
    },
    {
     "name": "stdout",
     "output_type": "stream",
     "text": [
      "[jovian] Attempting to save notebook..\u001b[0m\n",
      "[jovian] Updating notebook \"afifahluqman/02-insurance-linear-regression\" on https://jovian.ai\u001b[0m\n",
      "[jovian] Uploading notebook..\u001b[0m\n",
      "[jovian] Uploading additional files...\u001b[0m\n",
      "[jovian] Attaching records (metrics, hyperparameters, dataset etc.)\u001b[0m\n",
      "[jovian] Committed successfully! https://jovian.ai/afifahluqman/02-insurance-linear-regression\u001b[0m\n"
     ]
    },
    {
     "data": {
      "text/plain": [
       "'https://jovian.ai/afifahluqman/02-insurance-linear-regression'"
      ]
     },
     "execution_count": 118,
     "metadata": {},
     "output_type": "execute_result"
    }
   ],
   "source": [
    "jovian.commit(project=project_name, environment=None)\n",
    "jovian.commit(project=project_name, environment=None) # try again, kaggle fails sometimes"
   ]
  },
  {
   "cell_type": "code",
   "execution_count": null,
   "metadata": {
    "id": "xiXA9pZgtXlX"
   },
   "outputs": [],
   "source": []
  }
 ],
 "metadata": {
  "colab": {
   "name": "02-insurance-linear.ipynb",
   "provenance": []
  },
  "language_info": {
   "codemirror_mode": {
    "name": "ipython",
    "version": 3
   },
   "file_extension": ".py",
   "mimetype": "text/x-python",
   "name": "python",
   "nbconvert_exporter": "python",
   "pygments_lexer": "ipython3",
   "version": "3.8.6"
  },
  "widgets": {
   "application/vnd.jupyter.widget-state+json": {
    "31020829dafa497dafaedea4e7d0701b": {
     "model_module": "@jupyter-widgets/controls",
     "model_name": "HTMLModel",
     "state": {
      "_dom_classes": [],
      "_model_module": "@jupyter-widgets/controls",
      "_model_module_version": "1.5.0",
      "_model_name": "HTMLModel",
      "_view_count": null,
      "_view_module": "@jupyter-widgets/controls",
      "_view_module_version": "1.5.0",
      "_view_name": "HTMLView",
      "description": "",
      "description_tooltip": null,
      "layout": "IPY_MODEL_a965fbff9f52493fbbed83689b5d0099",
      "placeholder": "​",
      "style": "IPY_MODEL_b9e7212927a24daab80cf2d70185b1a3",
      "value": " 57344/? [00:20&lt;00:00, 131340.17it/s]"
     }
    },
    "715e13fa518b43a2a70c3a520a3e421d": {
     "model_module": "@jupyter-widgets/controls",
     "model_name": "FloatProgressModel",
     "state": {
      "_dom_classes": [],
      "_model_module": "@jupyter-widgets/controls",
      "_model_module_version": "1.5.0",
      "_model_name": "FloatProgressModel",
      "_view_count": null,
      "_view_module": "@jupyter-widgets/controls",
      "_view_module_version": "1.5.0",
      "_view_name": "ProgressView",
      "bar_style": "info",
      "description": "",
      "description_tooltip": null,
      "layout": "IPY_MODEL_b4561301e5ce42c99b23baba6fbddf9b",
      "max": 1,
      "min": 0,
      "orientation": "horizontal",
      "style": "IPY_MODEL_a6cb6a366b574c7c9f5a917257b249a1",
      "value": 1
     }
    },
    "8405815c91cf43edaf9fdfce3a211203": {
     "model_module": "@jupyter-widgets/controls",
     "model_name": "HBoxModel",
     "state": {
      "_dom_classes": [],
      "_model_module": "@jupyter-widgets/controls",
      "_model_module_version": "1.5.0",
      "_model_name": "HBoxModel",
      "_view_count": null,
      "_view_module": "@jupyter-widgets/controls",
      "_view_module_version": "1.5.0",
      "_view_name": "HBoxView",
      "box_style": "",
      "children": [
       "IPY_MODEL_715e13fa518b43a2a70c3a520a3e421d",
       "IPY_MODEL_31020829dafa497dafaedea4e7d0701b"
      ],
      "layout": "IPY_MODEL_ff204edcd1304468a0e514a3ed559dc6"
     }
    },
    "a6cb6a366b574c7c9f5a917257b249a1": {
     "model_module": "@jupyter-widgets/controls",
     "model_name": "ProgressStyleModel",
     "state": {
      "_model_module": "@jupyter-widgets/controls",
      "_model_module_version": "1.5.0",
      "_model_name": "ProgressStyleModel",
      "_view_count": null,
      "_view_module": "@jupyter-widgets/base",
      "_view_module_version": "1.2.0",
      "_view_name": "StyleView",
      "bar_color": null,
      "description_width": "initial"
     }
    },
    "a965fbff9f52493fbbed83689b5d0099": {
     "model_module": "@jupyter-widgets/base",
     "model_name": "LayoutModel",
     "state": {
      "_model_module": "@jupyter-widgets/base",
      "_model_module_version": "1.2.0",
      "_model_name": "LayoutModel",
      "_view_count": null,
      "_view_module": "@jupyter-widgets/base",
      "_view_module_version": "1.2.0",
      "_view_name": "LayoutView",
      "align_content": null,
      "align_items": null,
      "align_self": null,
      "border": null,
      "bottom": null,
      "display": null,
      "flex": null,
      "flex_flow": null,
      "grid_area": null,
      "grid_auto_columns": null,
      "grid_auto_flow": null,
      "grid_auto_rows": null,
      "grid_column": null,
      "grid_gap": null,
      "grid_row": null,
      "grid_template_areas": null,
      "grid_template_columns": null,
      "grid_template_rows": null,
      "height": null,
      "justify_content": null,
      "justify_items": null,
      "left": null,
      "margin": null,
      "max_height": null,
      "max_width": null,
      "min_height": null,
      "min_width": null,
      "object_fit": null,
      "object_position": null,
      "order": null,
      "overflow": null,
      "overflow_x": null,
      "overflow_y": null,
      "padding": null,
      "right": null,
      "top": null,
      "visibility": null,
      "width": null
     }
    },
    "b4561301e5ce42c99b23baba6fbddf9b": {
     "model_module": "@jupyter-widgets/base",
     "model_name": "LayoutModel",
     "state": {
      "_model_module": "@jupyter-widgets/base",
      "_model_module_version": "1.2.0",
      "_model_name": "LayoutModel",
      "_view_count": null,
      "_view_module": "@jupyter-widgets/base",
      "_view_module_version": "1.2.0",
      "_view_name": "LayoutView",
      "align_content": null,
      "align_items": null,
      "align_self": null,
      "border": null,
      "bottom": null,
      "display": null,
      "flex": null,
      "flex_flow": null,
      "grid_area": null,
      "grid_auto_columns": null,
      "grid_auto_flow": null,
      "grid_auto_rows": null,
      "grid_column": null,
      "grid_gap": null,
      "grid_row": null,
      "grid_template_areas": null,
      "grid_template_columns": null,
      "grid_template_rows": null,
      "height": null,
      "justify_content": null,
      "justify_items": null,
      "left": null,
      "margin": null,
      "max_height": null,
      "max_width": null,
      "min_height": null,
      "min_width": null,
      "object_fit": null,
      "object_position": null,
      "order": null,
      "overflow": null,
      "overflow_x": null,
      "overflow_y": null,
      "padding": null,
      "right": null,
      "top": null,
      "visibility": null,
      "width": null
     }
    },
    "b9e7212927a24daab80cf2d70185b1a3": {
     "model_module": "@jupyter-widgets/controls",
     "model_name": "DescriptionStyleModel",
     "state": {
      "_model_module": "@jupyter-widgets/controls",
      "_model_module_version": "1.5.0",
      "_model_name": "DescriptionStyleModel",
      "_view_count": null,
      "_view_module": "@jupyter-widgets/base",
      "_view_module_version": "1.2.0",
      "_view_name": "StyleView",
      "description_width": ""
     }
    },
    "ff204edcd1304468a0e514a3ed559dc6": {
     "model_module": "@jupyter-widgets/base",
     "model_name": "LayoutModel",
     "state": {
      "_model_module": "@jupyter-widgets/base",
      "_model_module_version": "1.2.0",
      "_model_name": "LayoutModel",
      "_view_count": null,
      "_view_module": "@jupyter-widgets/base",
      "_view_module_version": "1.2.0",
      "_view_name": "LayoutView",
      "align_content": null,
      "align_items": null,
      "align_self": null,
      "border": null,
      "bottom": null,
      "display": null,
      "flex": null,
      "flex_flow": null,
      "grid_area": null,
      "grid_auto_columns": null,
      "grid_auto_flow": null,
      "grid_auto_rows": null,
      "grid_column": null,
      "grid_gap": null,
      "grid_row": null,
      "grid_template_areas": null,
      "grid_template_columns": null,
      "grid_template_rows": null,
      "height": null,
      "justify_content": null,
      "justify_items": null,
      "left": null,
      "margin": null,
      "max_height": null,
      "max_width": null,
      "min_height": null,
      "min_width": null,
      "object_fit": null,
      "object_position": null,
      "order": null,
      "overflow": null,
      "overflow_x": null,
      "overflow_y": null,
      "padding": null,
      "right": null,
      "top": null,
      "visibility": null,
      "width": null
     }
    }
   }
  }
 },
 "nbformat": 4,
 "nbformat_minor": 1
}